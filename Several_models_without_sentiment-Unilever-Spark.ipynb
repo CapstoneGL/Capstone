{
 "cells": [
  {
   "cell_type": "markdown",
   "metadata": {},
   "source": [
    "## The data file is sourced from quandl. It is already sorted by date descending.\n",
    "\n",
    "Contains the following attributes\n",
    "\n",
    "    Date\n",
    "    Open \n",
    "    High\n",
    "    Low\n",
    "    Last\n",
    "    Close\n",
    "    Total Trade Quantity\n",
    "    Turnover (Lacs)"
   ]
  },
  {
   "cell_type": "markdown",
   "metadata": {},
   "source": [
    "### Create Spark context and Load the file from HDFS"
   ]
  },
  {
   "cell_type": "code",
   "execution_count": 1,
   "metadata": {
    "collapsed": true
   },
   "outputs": [],
   "source": [
    "from pyspark import SparkContext, SparkConf\n",
    "from pyspark.sql import SQLContext"
   ]
  },
  {
   "cell_type": "code",
   "execution_count": 2,
   "metadata": {
    "collapsed": true
   },
   "outputs": [],
   "source": [
    "sc= SparkContext()\n",
    "sc.setLogLevel('INFO')\n",
    "spark = SQLContext(sc)"
   ]
  },
  {
   "cell_type": "code",
   "execution_count": 177,
   "metadata": {},
   "outputs": [],
   "source": [
    "raw_data=spark.read.csv('hdfs://ip-172-31-53-48.ec2.internal:8020/user/anupkma7125/NSE-HINDUNILVR.csv',header=True,inferSchema=True)"
   ]
  },
  {
   "cell_type": "code",
   "execution_count": 178,
   "metadata": {},
   "outputs": [
    {
     "name": "stdout",
     "output_type": "stream",
     "text": [
      "+-------------------+------+-------+------+-------+-------+--------------------+---------------+\n",
      "|               Date|  Open|   High|   Low|   Last|  Close|Total Trade Quantity|Turnover (Lacs)|\n",
      "+-------------------+------+-------+------+-------+-------+--------------------+---------------+\n",
      "|2017-12-26 00:00:00|1350.4| 1353.9|1340.0| 1348.0| 1348.1|            913529.0|       12307.33|\n",
      "|2017-12-22 00:00:00|1341.3| 1359.5|1341.3| 1350.4| 1356.5|            561400.0|        7604.01|\n",
      "|2017-12-21 00:00:00|1365.0|1365.15|1345.1|1346.45|1348.45|            557871.0|        7532.59|\n",
      "|2017-12-20 00:00:00|1346.2|1367.95|1333.5|1367.15|1362.65|           1198943.0|       16226.24|\n",
      "|2017-12-19 00:00:00|1333.1| 1352.0|1326.5| 1352.0| 1349.7|           1227087.0|       16453.06|\n",
      "+-------------------+------+-------+------+-------+-------+--------------------+---------------+\n",
      "only showing top 5 rows\n",
      "\n"
     ]
    }
   ],
   "source": [
    "raw_data.show(5)"
   ]
  },
  {
   "cell_type": "markdown",
   "metadata": {},
   "source": [
    "### Using spark SQL window functions create the lag columns for 5 days"
   ]
  },
  {
   "cell_type": "code",
   "execution_count": 179,
   "metadata": {
    "collapsed": true
   },
   "outputs": [],
   "source": [
    "from pyspark.sql import Window"
   ]
  },
  {
   "cell_type": "code",
   "execution_count": 180,
   "metadata": {
    "collapsed": true
   },
   "outputs": [],
   "source": [
    "from pyspark.sql.functions import lag"
   ]
  },
  {
   "cell_type": "code",
   "execution_count": 181,
   "metadata": {},
   "outputs": [],
   "source": [
    "windowSpec = Window.orderBy(raw_data['Date'].desc()) "
   ]
  },
  {
   "cell_type": "code",
   "execution_count": 182,
   "metadata": {},
   "outputs": [],
   "source": [
    "raw_data_lag=raw_data.withColumn('OpenLag_1',lag(raw_data['Open'],1).over(windowSpec))"
   ]
  },
  {
   "cell_type": "code",
   "execution_count": 183,
   "metadata": {},
   "outputs": [
    {
     "name": "stdout",
     "output_type": "stream",
     "text": [
      "+-------------------+------+-------+------+-------+-------+--------------------+---------------+---------+\n",
      "|               Date|  Open|   High|   Low|   Last|  Close|Total Trade Quantity|Turnover (Lacs)|OpenLag_1|\n",
      "+-------------------+------+-------+------+-------+-------+--------------------+---------------+---------+\n",
      "|2017-12-26 00:00:00|1350.4| 1353.9|1340.0| 1348.0| 1348.1|            913529.0|       12307.33|     null|\n",
      "|2017-12-22 00:00:00|1341.3| 1359.5|1341.3| 1350.4| 1356.5|            561400.0|        7604.01|   1350.4|\n",
      "|2017-12-21 00:00:00|1365.0|1365.15|1345.1|1346.45|1348.45|            557871.0|        7532.59|   1341.3|\n",
      "|2017-12-20 00:00:00|1346.2|1367.95|1333.5|1367.15|1362.65|           1198943.0|       16226.24|   1365.0|\n",
      "|2017-12-19 00:00:00|1333.1| 1352.0|1326.5| 1352.0| 1349.7|           1227087.0|       16453.06|   1346.2|\n",
      "+-------------------+------+-------+------+-------+-------+--------------------+---------------+---------+\n",
      "only showing top 5 rows\n",
      "\n"
     ]
    }
   ],
   "source": [
    "raw_data_lag.show(5)"
   ]
  },
  {
   "cell_type": "code",
   "execution_count": 184,
   "metadata": {
    "collapsed": true
   },
   "outputs": [],
   "source": [
    "column_names =['Open','High','Low','Last','Close','Total Trade Quantity','Turnover (Lacs)']"
   ]
  },
  {
   "cell_type": "code",
   "execution_count": 185,
   "metadata": {},
   "outputs": [],
   "source": [
    "trans_data=raw_data\n",
    "window_spec=Window.orderBy(trans_data['Date'].desc()) \n",
    "for column in column_names:\n",
    "    for i in range(5):\n",
    "        new_column_name=column+\"Lag_\"+str(i+1)\n",
    "        value_1=lag(trans_data[column],i-1).over(window_spec)\n",
    "        value_2=lag(trans_data[column],i-2).over(window_spec)\n",
    "        diffpercentage = ((value_1 - value_2)/value_2)*100\n",
    "        trans_data=trans_data.withColumn(new_column_name,diffpercentage)\n",
    "value_1=lag(trans_data['Close'],-1).over(window_spec)\n",
    "diffpercentage = ((trans_data['Close'] - value_1)/value_1)*100\n",
    "trans_data_r=trans_data.withColumn('percent_change',diffpercentage)"
   ]
  },
  {
   "cell_type": "code",
   "execution_count": 186,
   "metadata": {},
   "outputs": [
    {
     "name": "stdout",
     "output_type": "stream",
     "text": [
      "+-------------------+-------+--------------------+-------+--------------------+\n",
      "|               Date|   Open|           OpenLag_1|  Close|      percent_change|\n",
      "+-------------------+-------+--------------------+-------+--------------------+\n",
      "|2017-12-26 00:00:00| 1350.4| -1.7362637362637396| 1348.1| -0.6192406929598298|\n",
      "|2017-12-22 00:00:00| 1341.3|  1.3965235477640732| 1356.5|  0.5969817197523047|\n",
      "|2017-12-21 00:00:00| 1365.0|  0.9826719675943393|1348.45| -1.0420871096760023|\n",
      "|2017-12-20 00:00:00| 1346.2|  0.9924242424242354|1362.65|  0.9594724753648993|\n",
      "|2017-12-19 00:00:00| 1333.1| -0.6248588421290338| 1349.7|  1.3478505725549124|\n",
      "|2017-12-18 00:00:00| 1320.0|  1.0882800608827972|1331.75|  0.5435808387754366|\n",
      "|2017-12-15 00:00:00| 1328.3|-0.40927694406549114|1324.55| 0.22321428571428917|\n",
      "|2017-12-14 00:00:00| 1314.0|0.022742779167628072| 1321.6|  0.4980799209155511|\n",
      "|2017-12-13 00:00:00| 1319.4| -0.7449209932279978|1315.05|0.030426349218412776|\n",
      "|2017-12-12 00:00:00| 1319.1|   2.514655970379505|1314.65| -0.7099429779842048|\n",
      "|2017-12-11 00:00:00| 1329.0|  1.5032884434700944|1324.05| -0.1959823615874674|\n",
      "|2017-12-08 00:00:00| 1296.4|  1.5060600039737768|1326.65|   2.685862455977402|\n",
      "|2017-12-07 00:00:00| 1277.2| -1.2362637362637363|1291.95|  1.2817497648165677|\n",
      "|2017-12-06 00:00:00|1258.25|   1.380654915847683| 1275.6|  1.1578112609040372|\n",
      "|2017-12-05 00:00:00| 1274.0|  -1.241699084443393| 1261.0| -0.5990856061800338|\n",
      "|2017-12-04 00:00:00|1256.65|-0.04320502749410483| 1268.6|   1.447421031587358|\n",
      "|2017-12-01 00:00:00|1272.45| 0.40619947154632574| 1250.5| -1.7250186647805448|\n",
      "|2017-11-30 00:00:00| 1273.0|  0.3840063341250918|1272.45| -0.2899345688202833|\n",
      "|2017-11-29 00:00:00|1267.85|  0.1586042823156225|1276.15|  0.6546515755018482|\n",
      "|2017-11-28 00:00:00| 1263.0| -0.6617299511580345|1267.85|  0.5990637149884912|\n",
      "+-------------------+-------+--------------------+-------+--------------------+\n",
      "only showing top 20 rows\n",
      "\n"
     ]
    }
   ],
   "source": [
    "trans_data_r.select('Date','Open','OpenLag_1','Close','percent_change').show()"
   ]
  },
  {
   "cell_type": "code",
   "execution_count": 187,
   "metadata": {
    "collapsed": true
   },
   "outputs": [],
   "source": [
    "trans_data_required=trans_data_r.select([c for c in trans_data_r.columns if c not in column_names])"
   ]
  },
  {
   "cell_type": "code",
   "execution_count": 188,
   "metadata": {},
   "outputs": [
    {
     "name": "stdout",
     "output_type": "stream",
     "text": [
      "root\n",
      " |-- Date: timestamp (nullable = true)\n",
      " |-- OpenLag_1: double (nullable = true)\n",
      " |-- OpenLag_2: double (nullable = true)\n",
      " |-- OpenLag_3: double (nullable = true)\n",
      " |-- OpenLag_4: double (nullable = true)\n",
      " |-- OpenLag_5: double (nullable = true)\n",
      " |-- HighLag_1: double (nullable = true)\n",
      " |-- HighLag_2: double (nullable = true)\n",
      " |-- HighLag_3: double (nullable = true)\n",
      " |-- HighLag_4: double (nullable = true)\n",
      " |-- HighLag_5: double (nullable = true)\n",
      " |-- LowLag_1: double (nullable = true)\n",
      " |-- LowLag_2: double (nullable = true)\n",
      " |-- LowLag_3: double (nullable = true)\n",
      " |-- LowLag_4: double (nullable = true)\n",
      " |-- LowLag_5: double (nullable = true)\n",
      " |-- LastLag_1: double (nullable = true)\n",
      " |-- LastLag_2: double (nullable = true)\n",
      " |-- LastLag_3: double (nullable = true)\n",
      " |-- LastLag_4: double (nullable = true)\n",
      " |-- LastLag_5: double (nullable = true)\n",
      " |-- CloseLag_1: double (nullable = true)\n",
      " |-- CloseLag_2: double (nullable = true)\n",
      " |-- CloseLag_3: double (nullable = true)\n",
      " |-- CloseLag_4: double (nullable = true)\n",
      " |-- CloseLag_5: double (nullable = true)\n",
      " |-- Total Trade QuantityLag_1: double (nullable = true)\n",
      " |-- Total Trade QuantityLag_2: double (nullable = true)\n",
      " |-- Total Trade QuantityLag_3: double (nullable = true)\n",
      " |-- Total Trade QuantityLag_4: double (nullable = true)\n",
      " |-- Total Trade QuantityLag_5: double (nullable = true)\n",
      " |-- Turnover (Lacs)Lag_1: double (nullable = true)\n",
      " |-- Turnover (Lacs)Lag_2: double (nullable = true)\n",
      " |-- Turnover (Lacs)Lag_3: double (nullable = true)\n",
      " |-- Turnover (Lacs)Lag_4: double (nullable = true)\n",
      " |-- Turnover (Lacs)Lag_5: double (nullable = true)\n",
      " |-- percent_change: double (nullable = true)\n",
      "\n"
     ]
    }
   ],
   "source": [
    "trans_data_required.printSchema()"
   ]
  },
  {
   "cell_type": "markdown",
   "metadata": {},
   "source": [
    "### Drop rows with null and create categorical column for trend"
   ]
  },
  {
   "cell_type": "code",
   "execution_count": 189,
   "metadata": {
    "collapsed": true
   },
   "outputs": [],
   "source": [
    "trans_data_required=trans_data_required.dropna()"
   ]
  },
  {
   "cell_type": "code",
   "execution_count": 190,
   "metadata": {
    "collapsed": true
   },
   "outputs": [],
   "source": [
    "bucketizer2 = Bucketizer(splits=[-100,0,100 ],inputCol=\"percent_change\", outputCol=\"trend\")"
   ]
  },
  {
   "cell_type": "code",
   "execution_count": 191,
   "metadata": {},
   "outputs": [],
   "source": [
    "df_buck = bucketizer2.setHandleInvalid(\"keep\").transform(trans_data_required)\n",
    "t = {0.0:\"Down\", 1.0: \"Up\"}\n",
    "udf_foo = udf(lambda x: t[x], StringType())\n",
    "df_buck=df_buck.withColumn(\"trend_bucket\", udf_foo(\"trend\"))"
   ]
  },
  {
   "cell_type": "code",
   "execution_count": 192,
   "metadata": {},
   "outputs": [
    {
     "name": "stdout",
     "output_type": "stream",
     "text": [
      "+-------------------+--------------------+------------+\n",
      "|               Date|      percent_change|trend_bucket|\n",
      "+-------------------+--------------------+------------+\n",
      "|2017-12-20 00:00:00|  0.9594724753648993|          Up|\n",
      "|2017-12-19 00:00:00|  1.3478505725549124|          Up|\n",
      "|2017-12-18 00:00:00|  0.5435808387754366|          Up|\n",
      "|2017-12-15 00:00:00| 0.22321428571428917|          Up|\n",
      "|2017-12-14 00:00:00|  0.4980799209155511|          Up|\n",
      "|2017-12-13 00:00:00|0.030426349218412776|          Up|\n",
      "|2017-12-12 00:00:00| -0.7099429779842048|        Down|\n",
      "|2017-12-11 00:00:00| -0.1959823615874674|        Down|\n",
      "|2017-12-08 00:00:00|   2.685862455977402|          Up|\n",
      "|2017-12-07 00:00:00|  1.2817497648165677|          Up|\n",
      "|2017-12-06 00:00:00|  1.1578112609040372|          Up|\n",
      "|2017-12-05 00:00:00| -0.5990856061800338|        Down|\n",
      "|2017-12-04 00:00:00|   1.447421031587358|          Up|\n",
      "|2017-12-01 00:00:00| -1.7250186647805448|        Down|\n",
      "|2017-11-30 00:00:00| -0.2899345688202833|        Down|\n",
      "|2017-11-29 00:00:00|  0.6546515755018482|          Up|\n",
      "|2017-11-28 00:00:00|  0.5990637149884912|          Up|\n",
      "|2017-11-27 00:00:00| -0.4463051463328007|        Down|\n",
      "|2017-11-24 00:00:00|-0.12228796844181102|        Down|\n",
      "|2017-11-23 00:00:00|-0.23220118855523988|        Down|\n",
      "+-------------------+--------------------+------------+\n",
      "only showing top 20 rows\n",
      "\n"
     ]
    }
   ],
   "source": [
    "df_buck.select('Date','percent_change','trend_bucket').show()"
   ]
  },
  {
   "cell_type": "code",
   "execution_count": 193,
   "metadata": {
    "collapsed": true
   },
   "outputs": [],
   "source": [
    "trend_df=df_buck.select([c for c in df_buck.columns if c not in {'trend','percent_change'}])"
   ]
  },
  {
   "cell_type": "code",
   "execution_count": 194,
   "metadata": {},
   "outputs": [
    {
     "name": "stdout",
     "output_type": "stream",
     "text": [
      "root\n",
      " |-- Date: timestamp (nullable = true)\n",
      " |-- OpenLag_1: double (nullable = true)\n",
      " |-- OpenLag_2: double (nullable = true)\n",
      " |-- OpenLag_3: double (nullable = true)\n",
      " |-- OpenLag_4: double (nullable = true)\n",
      " |-- OpenLag_5: double (nullable = true)\n",
      " |-- HighLag_1: double (nullable = true)\n",
      " |-- HighLag_2: double (nullable = true)\n",
      " |-- HighLag_3: double (nullable = true)\n",
      " |-- HighLag_4: double (nullable = true)\n",
      " |-- HighLag_5: double (nullable = true)\n",
      " |-- LowLag_1: double (nullable = true)\n",
      " |-- LowLag_2: double (nullable = true)\n",
      " |-- LowLag_3: double (nullable = true)\n",
      " |-- LowLag_4: double (nullable = true)\n",
      " |-- LowLag_5: double (nullable = true)\n",
      " |-- LastLag_1: double (nullable = true)\n",
      " |-- LastLag_2: double (nullable = true)\n",
      " |-- LastLag_3: double (nullable = true)\n",
      " |-- LastLag_4: double (nullable = true)\n",
      " |-- LastLag_5: double (nullable = true)\n",
      " |-- CloseLag_1: double (nullable = true)\n",
      " |-- CloseLag_2: double (nullable = true)\n",
      " |-- CloseLag_3: double (nullable = true)\n",
      " |-- CloseLag_4: double (nullable = true)\n",
      " |-- CloseLag_5: double (nullable = true)\n",
      " |-- Total Trade QuantityLag_1: double (nullable = true)\n",
      " |-- Total Trade QuantityLag_2: double (nullable = true)\n",
      " |-- Total Trade QuantityLag_3: double (nullable = true)\n",
      " |-- Total Trade QuantityLag_4: double (nullable = true)\n",
      " |-- Total Trade QuantityLag_5: double (nullable = true)\n",
      " |-- Turnover (Lacs)Lag_1: double (nullable = true)\n",
      " |-- Turnover (Lacs)Lag_2: double (nullable = true)\n",
      " |-- Turnover (Lacs)Lag_3: double (nullable = true)\n",
      " |-- Turnover (Lacs)Lag_4: double (nullable = true)\n",
      " |-- Turnover (Lacs)Lag_5: double (nullable = true)\n",
      " |-- trend_bucket: string (nullable = true)\n",
      "\n"
     ]
    }
   ],
   "source": [
    "trend_df.printSchema()"
   ]
  },
  {
   "cell_type": "code",
   "execution_count": 195,
   "metadata": {},
   "outputs": [
    {
     "data": {
      "text/plain": [
       "DataFrame[Date: timestamp, OpenLag_1: double, OpenLag_2: double, OpenLag_3: double, OpenLag_4: double, OpenLag_5: double, HighLag_1: double, HighLag_2: double, HighLag_3: double, HighLag_4: double, HighLag_5: double, LowLag_1: double, LowLag_2: double, LowLag_3: double, LowLag_4: double, LowLag_5: double, LastLag_1: double, LastLag_2: double, LastLag_3: double, LastLag_4: double, LastLag_5: double, CloseLag_1: double, CloseLag_2: double, CloseLag_3: double, CloseLag_4: double, CloseLag_5: double, Total Trade QuantityLag_1: double, Total Trade QuantityLag_2: double, Total Trade QuantityLag_3: double, Total Trade QuantityLag_4: double, Total Trade QuantityLag_5: double, Turnover (Lacs)Lag_1: double, Turnover (Lacs)Lag_2: double, Turnover (Lacs)Lag_3: double, Turnover (Lacs)Lag_4: double, Turnover (Lacs)Lag_5: double, trend_bucket: string]"
      ]
     },
     "execution_count": 195,
     "metadata": {},
     "output_type": "execute_result"
    }
   ],
   "source": [
    "trend_df.persist()"
   ]
  },
  {
   "cell_type": "markdown",
   "metadata": {},
   "source": [
    "## Train Test split, Scaling, Different Classification models, Score"
   ]
  },
  {
   "cell_type": "code",
   "execution_count": 197,
   "metadata": {
    "collapsed": true
   },
   "outputs": [],
   "source": [
    "from pyspark.ml.classification import LogisticRegression"
   ]
  },
  {
   "cell_type": "code",
   "execution_count": 198,
   "metadata": {},
   "outputs": [],
   "source": [
    "feature_Columns=trend_df.columns\n",
    "feature_Columns.remove('trend_bucket')\n",
    "feature_Columns.remove('Date')"
   ]
  },
  {
   "cell_type": "code",
   "execution_count": 199,
   "metadata": {},
   "outputs": [
    {
     "data": {
      "text/plain": [
       "['OpenLag_1',\n",
       " 'OpenLag_2',\n",
       " 'OpenLag_3',\n",
       " 'OpenLag_4',\n",
       " 'OpenLag_5',\n",
       " 'HighLag_1',\n",
       " 'HighLag_2',\n",
       " 'HighLag_3',\n",
       " 'HighLag_4',\n",
       " 'HighLag_5',\n",
       " 'LowLag_1',\n",
       " 'LowLag_2',\n",
       " 'LowLag_3',\n",
       " 'LowLag_4',\n",
       " 'LowLag_5',\n",
       " 'LastLag_1',\n",
       " 'LastLag_2',\n",
       " 'LastLag_3',\n",
       " 'LastLag_4',\n",
       " 'LastLag_5',\n",
       " 'CloseLag_1',\n",
       " 'CloseLag_2',\n",
       " 'CloseLag_3',\n",
       " 'CloseLag_4',\n",
       " 'CloseLag_5',\n",
       " 'Total Trade QuantityLag_1',\n",
       " 'Total Trade QuantityLag_2',\n",
       " 'Total Trade QuantityLag_3',\n",
       " 'Total Trade QuantityLag_4',\n",
       " 'Total Trade QuantityLag_5',\n",
       " 'Turnover (Lacs)Lag_1',\n",
       " 'Turnover (Lacs)Lag_2',\n",
       " 'Turnover (Lacs)Lag_3',\n",
       " 'Turnover (Lacs)Lag_4',\n",
       " 'Turnover (Lacs)Lag_5']"
      ]
     },
     "execution_count": 199,
     "metadata": {},
     "output_type": "execute_result"
    }
   ],
   "source": [
    "feature_Columns"
   ]
  },
  {
   "cell_type": "code",
   "execution_count": 200,
   "metadata": {},
   "outputs": [],
   "source": [
    "from pyspark.ml.feature import *"
   ]
  },
  {
   "cell_type": "code",
   "execution_count": 201,
   "metadata": {
    "collapsed": true
   },
   "outputs": [],
   "source": [
    "assembler = VectorAssembler().setInputCols(feature_Columns).setOutputCol(\"features\")"
   ]
  },
  {
   "cell_type": "code",
   "execution_count": 202,
   "metadata": {
    "collapsed": true
   },
   "outputs": [],
   "source": [
    "labelIndexer = StringIndexer().setInputCol(\"trend_bucket\").setOutputCol(\"label\")"
   ]
  },
  {
   "cell_type": "code",
   "execution_count": 203,
   "metadata": {
    "collapsed": true
   },
   "outputs": [],
   "source": [
    "lr = LogisticRegression().setMaxIter(10).setRegParam(0.3).setElasticNetParam(0.8)"
   ]
  },
  {
   "cell_type": "code",
   "execution_count": 204,
   "metadata": {
    "collapsed": true
   },
   "outputs": [],
   "source": [
    "from pyspark.ml import Pipeline"
   ]
  },
  {
   "cell_type": "code",
   "execution_count": 205,
   "metadata": {
    "collapsed": true
   },
   "outputs": [],
   "source": [
    "pipeline = Pipeline(stages=[assembler, labelIndexer, lr])"
   ]
  },
  {
   "cell_type": "code",
   "execution_count": 206,
   "metadata": {
    "collapsed": true
   },
   "outputs": [],
   "source": [
    "splitSeed = 5043\n",
    "trainingData, testData = trend_df.randomSplit([0.8, 0.2], splitSeed)"
   ]
  },
  {
   "cell_type": "code",
   "execution_count": 207,
   "metadata": {},
   "outputs": [
    {
     "data": {
      "text/plain": [
       "2082"
      ]
     },
     "execution_count": 207,
     "metadata": {},
     "output_type": "execute_result"
    }
   ],
   "source": [
    "trainingData.count()"
   ]
  },
  {
   "cell_type": "code",
   "execution_count": 208,
   "metadata": {},
   "outputs": [
    {
     "data": {
      "text/plain": [
       "500"
      ]
     },
     "execution_count": 208,
     "metadata": {},
     "output_type": "execute_result"
    }
   ],
   "source": [
    "testData.count()"
   ]
  },
  {
   "cell_type": "code",
   "execution_count": 209,
   "metadata": {
    "collapsed": true
   },
   "outputs": [],
   "source": [
    "model = pipeline.fit(trainingData)"
   ]
  },
  {
   "cell_type": "code",
   "execution_count": 251,
   "metadata": {},
   "outputs": [
    {
     "name": "stdout",
     "output_type": "stream",
     "text": [
      "(2007-07-31 00:00:00,1.0) --> prob=[0.443667334667,0.556332665333], prediction=1.000000\n",
      "(2007-08-27 00:00:00,0.0) --> prob=[0.546079671191,0.453920328809], prediction=0.000000\n",
      "(2007-10-05 00:00:00,1.0) --> prob=[0.469315817957,0.530684182043], prediction=1.000000\n",
      "(2007-10-08 00:00:00,1.0) --> prob=[0.470676190589,0.529323809411], prediction=1.000000\n",
      "(2007-10-09 00:00:00,0.0) --> prob=[0.602736936474,0.397263063526], prediction=0.000000\n",
      "(2007-10-12 00:00:00,1.0) --> prob=[0.374796689432,0.625203310568], prediction=1.000000\n",
      "(2007-10-15 00:00:00,1.0) --> prob=[0.464061639186,0.535938360814], prediction=1.000000\n",
      "(2007-10-30 00:00:00,1.0) --> prob=[0.508933565861,0.491066434139], prediction=0.000000\n",
      "(2007-10-31 00:00:00,1.0) --> prob=[0.19929668381,0.80070331619], prediction=1.000000\n",
      "(2007-11-01 00:00:00,1.0) --> prob=[0.17342480387,0.82657519613], prediction=1.000000\n",
      "(2007-11-05 00:00:00,1.0) --> prob=[0.437324177313,0.562675822687], prediction=1.000000\n",
      "(2007-12-10 00:00:00,1.0) --> prob=[0.420443694758,0.579556305242], prediction=1.000000\n",
      "(2007-12-18 00:00:00,1.0) --> prob=[0.319089177322,0.680910822678], prediction=1.000000\n",
      "(2007-12-19 00:00:00,0.0) --> prob=[0.528021591872,0.471978408128], prediction=0.000000\n",
      "(2007-12-31 00:00:00,1.0) --> prob=[0.426823749395,0.573176250605], prediction=1.000000\n",
      "(2008-01-17 00:00:00,0.0) --> prob=[0.593237261411,0.406762738589], prediction=0.000000\n",
      "(2008-02-01 00:00:00,1.0) --> prob=[0.481960471612,0.518039528388], prediction=1.000000\n",
      "(2008-02-11 00:00:00,1.0) --> prob=[0.128370023313,0.871629976687], prediction=1.000000\n",
      "(2008-02-13 00:00:00,1.0) --> prob=[0.464497177038,0.535502822962], prediction=1.000000\n",
      "(2008-03-03 00:00:00,0.0) --> prob=[0.593329216895,0.406670783105], prediction=0.000000\n",
      "(2008-03-24 00:00:00,0.0) --> prob=[0.744210445465,0.255789554535], prediction=0.000000\n",
      "(2008-03-27 00:00:00,0.0) --> prob=[0.746341593776,0.253658406224], prediction=0.000000\n",
      "(2008-04-30 00:00:00,1.0) --> prob=[0.47897834637,0.52102165363], prediction=1.000000\n",
      "(2008-05-08 00:00:00,1.0) --> prob=[0.486558644717,0.513441355283], prediction=1.000000\n",
      "(2008-05-26 00:00:00,1.0) --> prob=[0.392628923312,0.607371076688], prediction=1.000000\n",
      "(2008-05-27 00:00:00,0.0) --> prob=[0.54647956031,0.45352043969], prediction=0.000000\n",
      "(2008-05-28 00:00:00,0.0) --> prob=[0.663624386758,0.336375613242], prediction=0.000000\n",
      "(2008-06-02 00:00:00,1.0) --> prob=[0.457212983976,0.542787016024], prediction=1.000000\n",
      "(2008-06-05 00:00:00,0.0) --> prob=[0.698518321715,0.301481678285], prediction=0.000000\n",
      "(2008-06-20 00:00:00,1.0) --> prob=[0.337605224735,0.662394775265], prediction=1.000000\n",
      "(2008-07-02 00:00:00,0.0) --> prob=[0.574551646225,0.425448353775], prediction=0.000000\n",
      "(2008-07-11 00:00:00,1.0) --> prob=[0.385093569807,0.614906430193], prediction=1.000000\n",
      "(2008-07-14 00:00:00,0.0) --> prob=[0.657040410418,0.342959589582], prediction=0.000000\n",
      "(2008-07-15 00:00:00,1.0) --> prob=[0.274005017206,0.725994982794], prediction=1.000000\n",
      "(2008-07-16 00:00:00,0.0) --> prob=[0.645887164146,0.354112835854], prediction=0.000000\n",
      "(2008-07-17 00:00:00,0.0) --> prob=[0.619755465564,0.380244534436], prediction=0.000000\n",
      "(2008-07-25 00:00:00,0.0) --> prob=[0.687542945579,0.312457054421], prediction=0.000000\n",
      "(2008-08-05 00:00:00,0.0) --> prob=[0.674721874268,0.325278125732], prediction=0.000000\n",
      "(2008-08-11 00:00:00,1.0) --> prob=[0.53400262667,0.46599737333], prediction=0.000000\n",
      "(2008-08-18 00:00:00,0.0) --> prob=[0.560606952656,0.439393047344], prediction=0.000000\n",
      "(2008-08-20 00:00:00,1.0) --> prob=[0.493472740255,0.506527259745], prediction=1.000000\n",
      "(2008-08-29 00:00:00,0.0) --> prob=[0.656628118917,0.343371881083], prediction=0.000000\n",
      "(2008-09-01 00:00:00,1.0) --> prob=[0.420241974928,0.579758025072], prediction=1.000000\n",
      "(2008-09-02 00:00:00,0.0) --> prob=[0.638014209036,0.361985790964], prediction=0.000000\n",
      "(2008-09-09 00:00:00,1.0) --> prob=[0.472219129453,0.527780870547], prediction=1.000000\n",
      "(2008-09-10 00:00:00,1.0) --> prob=[0.485028030912,0.514971969088], prediction=1.000000\n",
      "(2008-09-17 00:00:00,1.0) --> prob=[0.421898768761,0.578101231239], prediction=1.000000\n",
      "(2008-09-24 00:00:00,0.0) --> prob=[0.572035184132,0.427964815868], prediction=0.000000\n",
      "(2008-09-29 00:00:00,0.0) --> prob=[0.559977803799,0.440022196201], prediction=0.000000\n",
      "(2008-10-06 00:00:00,1.0) --> prob=[0.336321679633,0.663678320367], prediction=1.000000\n",
      "(2008-10-10 00:00:00,1.0) --> prob=[0.160920888408,0.839079111592], prediction=1.000000\n",
      "(2008-10-13 00:00:00,0.0) --> prob=[0.753377302262,0.246622697738], prediction=0.000000\n",
      "(2008-10-22 00:00:00,0.0) --> prob=[0.533095250389,0.466904749611], prediction=0.000000\n",
      "(2008-10-27 00:00:00,1.0) --> prob=[0.13929802915,0.86070197085], prediction=1.000000\n",
      "(2008-11-05 00:00:00,1.0) --> prob=[0.310985856497,0.689014143503], prediction=1.000000\n",
      "(2008-11-14 00:00:00,0.0) --> prob=[0.520988499663,0.479011500337], prediction=0.000000\n",
      "(2008-12-04 00:00:00,0.0) --> prob=[0.626789622855,0.373210377145], prediction=0.000000\n",
      "(2008-12-11 00:00:00,1.0) --> prob=[0.426847222853,0.573152777147], prediction=1.000000\n",
      "(2008-12-16 00:00:00,0.0) --> prob=[0.621579760714,0.378420239286], prediction=0.000000\n",
      "(2009-01-02 00:00:00,1.0) --> prob=[0.435144720248,0.564855279752], prediction=1.000000\n",
      "(2009-01-23 00:00:00,1.0) --> prob=[0.361286929891,0.638713070109], prediction=1.000000\n",
      "(2009-02-03 00:00:00,0.0) --> prob=[0.613513453978,0.386486546022], prediction=0.000000\n",
      "(2009-02-04 00:00:00,0.0) --> prob=[0.549873217145,0.450126782855], prediction=0.000000\n",
      "(2009-02-09 00:00:00,1.0) --> prob=[0.49296305596,0.50703694404], prediction=1.000000\n",
      "(2009-02-11 00:00:00,0.0) --> prob=[0.518853557439,0.481146442561], prediction=0.000000\n",
      "(2009-02-25 00:00:00,1.0) --> prob=[0.47862124548,0.52137875452], prediction=1.000000\n",
      "(2009-02-26 00:00:00,0.0) --> prob=[0.562245418133,0.437754581867], prediction=0.000000\n",
      "(2009-03-09 00:00:00,1.0) --> prob=[0.323038959444,0.676961040556], prediction=1.000000\n",
      "(2009-03-16 00:00:00,0.0) --> prob=[0.682587295721,0.317412704279], prediction=0.000000\n",
      "(2009-03-17 00:00:00,1.0) --> prob=[0.432188683461,0.567811316539], prediction=1.000000\n",
      "(2009-03-18 00:00:00,1.0) --> prob=[0.49179559603,0.50820440397], prediction=1.000000\n",
      "(2009-03-20 00:00:00,0.0) --> prob=[0.584953326018,0.415046673982], prediction=0.000000\n",
      "(2009-03-27 00:00:00,0.0) --> prob=[0.528516824293,0.471483175707], prediction=0.000000\n",
      "(2009-03-31 00:00:00,1.0) --> prob=[0.441638249634,0.558361750366], prediction=1.000000\n",
      "(2009-04-22 00:00:00,1.0) --> prob=[0.469589910921,0.530410089079], prediction=1.000000\n",
      "(2009-04-27 00:00:00,1.0) --> prob=[0.318877008507,0.681122991493], prediction=1.000000\n",
      "(2009-05-04 00:00:00,0.0) --> prob=[0.63514891486,0.36485108514], prediction=0.000000\n",
      "(2009-05-07 00:00:00,1.0) --> prob=[0.410428658539,0.589571341461], prediction=1.000000\n",
      "(2009-05-13 00:00:00,1.0) --> prob=[0.418149043932,0.581850956068], prediction=1.000000\n",
      "(2009-05-20 00:00:00,0.0) --> prob=[0.606189044461,0.393810955539], prediction=0.000000\n",
      "(2009-05-21 00:00:00,1.0) --> prob=[0.428843307354,0.571156692646], prediction=1.000000\n",
      "(2009-05-25 00:00:00,0.0) --> prob=[0.519917477695,0.480082522305], prediction=0.000000\n",
      "(2009-06-04 00:00:00,0.0) --> prob=[0.750512379081,0.249487620919], prediction=0.000000\n",
      "(2009-06-05 00:00:00,0.0) --> prob=[0.57201131553,0.42798868447], prediction=0.000000\n",
      "(2009-06-10 00:00:00,0.0) --> prob=[0.677745517053,0.322254482947], prediction=0.000000\n",
      "(2009-06-26 00:00:00,0.0) --> prob=[0.683440862358,0.316559137642], prediction=0.000000\n",
      "(2009-07-09 00:00:00,1.0) --> prob=[0.412357661891,0.587642338109], prediction=1.000000\n",
      "(2009-07-27 00:00:00,0.0) --> prob=[0.815498501217,0.184501498783], prediction=0.000000\n",
      "(2009-08-07 00:00:00,1.0) --> prob=[0.311452144958,0.688547855042], prediction=1.000000\n",
      "(2009-08-21 00:00:00,0.0) --> prob=[0.615440341415,0.384559658585], prediction=0.000000\n",
      "(2009-08-24 00:00:00,0.0) --> prob=[0.679227326494,0.320772673506], prediction=0.000000\n",
      "(2009-08-27 00:00:00,1.0) --> prob=[0.360626827117,0.639373172883], prediction=1.000000\n",
      "(2009-08-28 00:00:00,0.0) --> prob=[0.594161240204,0.405838759796], prediction=0.000000\n",
      "(2009-09-02 00:00:00,0.0) --> prob=[0.62217881635,0.37782118365], prediction=0.000000\n",
      "(2009-09-11 00:00:00,1.0) --> prob=[0.374958736206,0.625041263794], prediction=1.000000\n",
      "(2009-09-22 00:00:00,0.0) --> prob=[0.56742562361,0.43257437639], prediction=0.000000\n",
      "(2009-10-09 00:00:00,1.0) --> prob=[0.497326958762,0.502673041238], prediction=1.000000\n",
      "(2009-10-16 00:00:00,1.0) --> prob=[0.438161785876,0.561838214124], prediction=1.000000\n",
      "(2009-10-20 00:00:00,1.0) --> prob=[0.399584282785,0.600415717215], prediction=1.000000\n",
      "(2009-10-26 00:00:00,1.0) --> prob=[0.439283024391,0.560716975609], prediction=1.000000\n",
      "(2009-10-29 00:00:00,0.0) --> prob=[0.573709986374,0.426290013626], prediction=0.000000\n",
      "(2009-10-30 00:00:00,0.0) --> prob=[0.502872698704,0.497127301296], prediction=0.000000\n",
      "(2009-11-03 00:00:00,1.0) --> prob=[0.289928648049,0.710071351951], prediction=1.000000\n",
      "(2009-11-04 00:00:00,0.0) --> prob=[0.638041346959,0.361958653041], prediction=0.000000\n",
      "(2009-11-06 00:00:00,1.0) --> prob=[0.360188698489,0.639811301511], prediction=1.000000\n",
      "(2009-11-12 00:00:00,1.0) --> prob=[0.487279303072,0.512720696928], prediction=1.000000\n",
      "(2009-12-03 00:00:00,1.0) --> prob=[0.408373704433,0.591626295567], prediction=1.000000\n",
      "(2009-12-09 00:00:00,1.0) --> prob=[0.50483852395,0.49516147605], prediction=0.000000\n",
      "(2009-12-15 00:00:00,1.0) --> prob=[0.486135192536,0.513864807464], prediction=1.000000\n",
      "(2009-12-22 00:00:00,1.0) --> prob=[0.490640141077,0.509359858923], prediction=1.000000\n",
      "(2010-01-06 00:00:00,0.0) --> prob=[0.547720895762,0.452279104238], prediction=0.000000\n",
      "(2010-01-07 00:00:00,1.0) --> prob=[0.496050778311,0.503949221689], prediction=1.000000\n",
      "(2010-01-12 00:00:00,1.0) --> prob=[0.418252441841,0.581747558159], prediction=1.000000\n",
      "(2010-01-15 00:00:00,0.0) --> prob=[0.512499965927,0.487500034073], prediction=0.000000\n",
      "(2010-02-02 00:00:00,1.0) --> prob=[0.491999419124,0.508000580876], prediction=1.000000\n",
      "(2010-02-10 00:00:00,1.0) --> prob=[0.438061876503,0.561938123497], prediction=1.000000\n",
      "(2010-02-17 00:00:00,0.0) --> prob=[0.58919380418,0.41080619582], prediction=0.000000\n",
      "(2010-02-22 00:00:00,0.0) --> prob=[0.618145204624,0.381854795376], prediction=0.000000\n",
      "(2010-02-23 00:00:00,1.0) --> prob=[0.483649794382,0.516350205618], prediction=1.000000\n",
      "(2010-02-26 00:00:00,0.0) --> prob=[0.542386352282,0.457613647718], prediction=0.000000\n",
      "(2010-03-02 00:00:00,1.0) --> prob=[0.461047017353,0.538952982647], prediction=1.000000\n",
      "(2010-03-08 00:00:00,1.0) --> prob=[0.403447224369,0.596552775631], prediction=1.000000\n",
      "(2010-03-23 00:00:00,0.0) --> prob=[0.509447779466,0.490552220534], prediction=0.000000\n",
      "(2010-03-31 00:00:00,1.0) --> prob=[0.439104895785,0.560895104215], prediction=1.000000\n",
      "(2010-04-01 00:00:00,1.0) --> prob=[0.294940935151,0.705059064849], prediction=1.000000\n",
      "(2010-04-05 00:00:00,1.0) --> prob=[0.475472246779,0.524527753221], prediction=1.000000\n",
      "(2010-04-08 00:00:00,1.0) --> prob=[0.438013016539,0.561986983461], prediction=1.000000\n",
      "(2010-04-15 00:00:00,0.0) --> prob=[0.564534046432,0.435465953568], prediction=0.000000\n",
      "(2010-04-26 00:00:00,0.0) --> prob=[0.574037404875,0.425962595125], prediction=0.000000\n",
      "(2010-04-28 00:00:00,1.0) --> prob=[0.492516396038,0.507483603962], prediction=1.000000\n",
      "(2010-05-04 00:00:00,1.0) --> prob=[0.464039933031,0.535960066969], prediction=1.000000\n",
      "(2010-05-11 00:00:00,1.0) --> prob=[0.514489093198,0.485510906802], prediction=0.000000\n",
      "(2010-05-13 00:00:00,1.0) --> prob=[0.503078551622,0.496921448378], prediction=0.000000\n",
      "(2010-05-19 00:00:00,1.0) --> prob=[0.348101430553,0.651898569447], prediction=1.000000\n",
      "(2010-05-20 00:00:00,0.0) --> prob=[0.588081193079,0.411918806921], prediction=0.000000\n",
      "(2010-05-26 00:00:00,0.0) --> prob=[0.526906420201,0.473093579799], prediction=0.000000\n",
      "(2010-05-31 00:00:00,0.0) --> prob=[0.541771350624,0.458228649376], prediction=0.000000\n",
      "(2010-06-03 00:00:00,0.0) --> prob=[0.721347614977,0.278652385023], prediction=0.000000\n",
      "(2010-06-15 00:00:00,0.0) --> prob=[0.61814047106,0.38185952894], prediction=0.000000\n",
      "(2010-06-16 00:00:00,1.0) --> prob=[0.41021222238,0.58978777762], prediction=1.000000\n",
      "(2010-06-24 00:00:00,0.0) --> prob=[0.594806008619,0.405193991381], prediction=0.000000\n",
      "(2010-06-30 00:00:00,0.0) --> prob=[0.62689903079,0.37310096921], prediction=0.000000\n",
      "(2010-07-02 00:00:00,1.0) --> prob=[0.421465477984,0.578534522016], prediction=1.000000\n",
      "(2010-07-06 00:00:00,0.0) --> prob=[0.536301060583,0.463698939417], prediction=0.000000\n",
      "(2010-07-13 00:00:00,1.0) --> prob=[0.453612695732,0.546387304268], prediction=1.000000\n",
      "(2010-07-23 00:00:00,1.0) --> prob=[0.502393402118,0.497606597882], prediction=0.000000\n",
      "(2010-07-27 00:00:00,1.0) --> prob=[0.465892692262,0.534107307738], prediction=1.000000\n",
      "(2010-07-28 00:00:00,1.0) --> prob=[0.329953900703,0.670046099297], prediction=1.000000\n",
      "(2010-07-29 00:00:00,0.0) --> prob=[0.605802410314,0.394197589686], prediction=0.000000\n",
      "(2010-08-18 00:00:00,0.0) --> prob=[0.591663102674,0.408336897326], prediction=0.000000\n",
      "(2010-08-24 00:00:00,0.0) --> prob=[0.537934126583,0.462065873417], prediction=0.000000\n",
      "(2010-09-07 00:00:00,1.0) --> prob=[0.479306730316,0.520693269684], prediction=1.000000\n",
      "(2010-09-24 00:00:00,0.0) --> prob=[0.734258785428,0.265741214572], prediction=0.000000\n",
      "(2010-10-06 00:00:00,1.0) --> prob=[0.449473306718,0.550526693282], prediction=1.000000\n",
      "(2010-10-13 00:00:00,0.0) --> prob=[0.729883356778,0.270116643222], prediction=0.000000\n",
      "(2010-10-19 00:00:00,0.0) --> prob=[0.503802410543,0.496197589457], prediction=0.000000\n",
      "(2010-11-02 00:00:00,0.0) --> prob=[0.504404945579,0.495595054421], prediction=0.000000\n",
      "(2010-11-12 00:00:00,1.0) --> prob=[0.358759239345,0.641240760655], prediction=1.000000\n",
      "(2010-11-26 00:00:00,1.0) --> prob=[0.423876321973,0.576123678027], prediction=1.000000\n",
      "(2010-12-06 00:00:00,0.0) --> prob=[0.526789959772,0.473210040228], prediction=0.000000\n",
      "(2010-12-08 00:00:00,0.0) --> prob=[0.514602108072,0.485397891928], prediction=0.000000\n",
      "(2011-01-06 00:00:00,1.0) --> prob=[0.412365493174,0.587634506826], prediction=1.000000\n",
      "(2011-01-13 00:00:00,1.0) --> prob=[0.459229356734,0.540770643266], prediction=1.000000\n",
      "(2011-03-04 00:00:00,1.0) --> prob=[0.445492285941,0.554507714059], prediction=1.000000\n",
      "(2011-03-09 00:00:00,1.0) --> prob=[0.458226105983,0.541773894017], prediction=1.000000\n",
      "(2011-03-18 00:00:00,1.0) --> prob=[0.459498031138,0.540501968862], prediction=1.000000\n",
      "(2011-03-23 00:00:00,0.0) --> prob=[0.544654155416,0.455345844584], prediction=0.000000\n",
      "(2011-03-24 00:00:00,1.0) --> prob=[0.499635252895,0.500364747105], prediction=1.000000\n",
      "(2011-03-29 00:00:00,0.0) --> prob=[0.548242200569,0.451757799431], prediction=0.000000\n",
      "(2011-03-30 00:00:00,0.0) --> prob=[0.511223923581,0.488776076419], prediction=0.000000\n",
      "(2011-04-07 00:00:00,1.0) --> prob=[0.487578421716,0.512421578284], prediction=1.000000\n",
      "(2011-04-19 00:00:00,1.0) --> prob=[0.41638434214,0.58361565786], prediction=1.000000\n",
      "(2011-04-20 00:00:00,0.0) --> prob=[0.656370259153,0.343629740847], prediction=0.000000\n",
      "(2011-04-21 00:00:00,0.0) --> prob=[0.612508308822,0.387491691178], prediction=0.000000\n",
      "(2011-04-28 00:00:00,1.0) --> prob=[0.42589472681,0.57410527319], prediction=1.000000\n",
      "(2011-05-04 00:00:00,0.0) --> prob=[0.572542049779,0.427457950221], prediction=0.000000\n",
      "(2011-05-12 00:00:00,0.0) --> prob=[0.521062667535,0.478937332465], prediction=0.000000\n",
      "(2011-05-13 00:00:00,0.0) --> prob=[0.627699220183,0.372300779817], prediction=0.000000\n",
      "(2011-05-19 00:00:00,0.0) --> prob=[0.513506779749,0.486493220251], prediction=0.000000\n",
      "(2011-05-23 00:00:00,1.0) --> prob=[0.382899412261,0.617100587739], prediction=1.000000\n",
      "(2011-05-25 00:00:00,1.0) --> prob=[0.455441228903,0.544558771097], prediction=1.000000\n",
      "(2011-05-30 00:00:00,0.0) --> prob=[0.518898481784,0.481101518216], prediction=0.000000\n",
      "(2011-05-31 00:00:00,0.0) --> prob=[0.542416900195,0.457583099805], prediction=0.000000\n",
      "(2011-06-02 00:00:00,0.0) --> prob=[0.693518112109,0.306481887891], prediction=0.000000\n",
      "(2011-06-06 00:00:00,1.0) --> prob=[0.440759159168,0.559240840832], prediction=1.000000\n",
      "(2011-06-15 00:00:00,0.0) --> prob=[0.537649186962,0.462350813038], prediction=0.000000\n",
      "(2011-06-27 00:00:00,1.0) --> prob=[0.494707742134,0.505292257866], prediction=1.000000\n",
      "(2011-06-28 00:00:00,0.0) --> prob=[0.509250210387,0.490749789613], prediction=0.000000\n",
      "(2011-07-14 00:00:00,0.0) --> prob=[0.519585643744,0.480414356256], prediction=0.000000\n",
      "(2011-07-19 00:00:00,1.0) --> prob=[0.466587279068,0.533412720932], prediction=1.000000\n",
      "(2011-07-20 00:00:00,0.0) --> prob=[0.532644039771,0.467355960229], prediction=0.000000\n",
      "(2011-07-25 00:00:00,1.0) --> prob=[0.461487934572,0.538512065428], prediction=1.000000\n",
      "(2011-08-05 00:00:00,1.0) --> prob=[0.486400202351,0.513599797649], prediction=1.000000\n",
      "(2011-08-08 00:00:00,0.0) --> prob=[0.541279574479,0.458720425521], prediction=0.000000\n",
      "(2011-08-18 00:00:00,0.0) --> prob=[0.513608685562,0.486391314438], prediction=0.000000\n",
      "(2011-08-23 00:00:00,0.0) --> prob=[0.609197219905,0.390802780095], prediction=0.000000\n",
      "(2011-08-24 00:00:00,0.0) --> prob=[0.533746063533,0.466253936467], prediction=0.000000\n",
      "(2011-08-30 00:00:00,0.0) --> prob=[0.512979929486,0.487020070514], prediction=0.000000\n",
      "(2011-09-08 00:00:00,0.0) --> prob=[0.60395682952,0.39604317048], prediction=0.000000\n",
      "(2011-09-12 00:00:00,0.0) --> prob=[0.726927817995,0.273072182005], prediction=0.000000\n",
      "(2011-09-29 00:00:00,0.0) --> prob=[0.654189258611,0.345810741389], prediction=0.000000\n",
      "(2011-10-03 00:00:00,1.0) --> prob=[0.401559801408,0.598440198592], prediction=1.000000\n",
      "(2011-10-10 00:00:00,0.0) --> prob=[0.54610148043,0.45389851957], prediction=0.000000\n",
      "(2011-10-17 00:00:00,0.0) --> prob=[0.553318539725,0.446681460275], prediction=0.000000\n",
      "(2011-10-21 00:00:00,1.0) --> prob=[0.420083296875,0.579916703125], prediction=1.000000\n",
      "(2011-10-25 00:00:00,0.0) --> prob=[0.592351848794,0.407648151206], prediction=0.000000\n",
      "(2011-11-01 00:00:00,0.0) --> prob=[0.704223089042,0.295776910958], prediction=0.000000\n",
      "(2011-11-08 00:00:00,0.0) --> prob=[0.52822454339,0.47177545661], prediction=0.000000\n",
      "(2011-11-21 00:00:00,0.0) --> prob=[0.507904255118,0.492095744882], prediction=0.000000\n",
      "(2011-11-22 00:00:00,1.0) --> prob=[0.427091473052,0.572908526948], prediction=1.000000\n",
      "(2011-12-07 00:00:00,0.0) --> prob=[0.537557337809,0.462442662191], prediction=0.000000\n",
      "(2011-12-13 00:00:00,0.0) --> prob=[0.549074778266,0.450925221734], prediction=0.000000\n",
      "(2011-12-14 00:00:00,1.0) --> prob=[0.476687900819,0.523312099181], prediction=1.000000\n",
      "(2011-12-19 00:00:00,0.0) --> prob=[0.572600048626,0.427399951374], prediction=0.000000\n",
      "(2011-12-29 00:00:00,0.0) --> prob=[0.550550056392,0.449449943608], prediction=0.000000\n",
      "(2012-01-02 00:00:00,1.0) --> prob=[0.444684528367,0.555315471633], prediction=1.000000\n",
      "(2012-01-04 00:00:00,1.0) --> prob=[0.32812614375,0.67187385625], prediction=1.000000\n",
      "(2012-01-09 00:00:00,1.0) --> prob=[0.476076635841,0.523923364159], prediction=1.000000\n",
      "(2012-01-19 00:00:00,1.0) --> prob=[0.496511003112,0.503488996888], prediction=1.000000\n",
      "(2012-01-23 00:00:00,0.0) --> prob=[0.580554217862,0.419445782138], prediction=0.000000\n",
      "(2012-01-24 00:00:00,1.0) --> prob=[0.468954057636,0.531045942364], prediction=1.000000\n",
      "(2012-01-25 00:00:00,0.0) --> prob=[0.543303041079,0.456696958921], prediction=0.000000\n",
      "(2012-01-30 00:00:00,1.0) --> prob=[0.378578970354,0.621421029646], prediction=1.000000\n",
      "(2012-01-31 00:00:00,1.0) --> prob=[0.463531308891,0.536468691109], prediction=1.000000\n",
      "(2012-02-08 00:00:00,0.0) --> prob=[0.612879309602,0.387120690398], prediction=0.000000\n",
      "(2012-02-17 00:00:00,0.0) --> prob=[0.536069841461,0.463930158539], prediction=0.000000\n",
      "(2012-03-06 00:00:00,1.0) --> prob=[0.473229021213,0.526770978787], prediction=1.000000\n",
      "(2012-03-09 00:00:00,1.0) --> prob=[0.464440401369,0.535559598631], prediction=1.000000\n",
      "(2012-03-14 00:00:00,1.0) --> prob=[0.506928947815,0.493071052185], prediction=0.000000\n",
      "(2012-03-30 00:00:00,0.0) --> prob=[0.514479894696,0.485520105304], prediction=0.000000\n",
      "(2012-04-02 00:00:00,1.0) --> prob=[0.457649205671,0.542350794329], prediction=1.000000\n",
      "(2012-04-04 00:00:00,1.0) --> prob=[0.432774627591,0.567225372409], prediction=1.000000\n",
      "(2012-04-11 00:00:00,0.0) --> prob=[0.527201486383,0.472798513617], prediction=0.000000\n",
      "(2012-04-18 00:00:00,0.0) --> prob=[0.521658038846,0.478341961154], prediction=0.000000\n",
      "(2012-04-20 00:00:00,1.0) --> prob=[0.485540821423,0.514459178577], prediction=1.000000\n",
      "(2012-04-26 00:00:00,1.0) --> prob=[0.442391862102,0.557608137898], prediction=1.000000\n",
      "(2012-04-30 00:00:00,0.0) --> prob=[0.499427553583,0.500572446417], prediction=1.000000\n",
      "(2012-05-07 00:00:00,1.0) --> prob=[0.447935831347,0.552064168653], prediction=1.000000\n",
      "(2012-05-11 00:00:00,1.0) --> prob=[0.499371598793,0.500628401207], prediction=1.000000\n",
      "(2012-05-22 00:00:00,1.0) --> prob=[0.481554833333,0.518445166667], prediction=1.000000\n",
      "(2012-05-24 00:00:00,1.0) --> prob=[0.476576912945,0.523423087055], prediction=1.000000\n",
      "(2012-05-31 00:00:00,0.0) --> prob=[0.572019111766,0.427980888234], prediction=0.000000\n",
      "(2012-06-06 00:00:00,0.0) --> prob=[0.691703696455,0.308296303545], prediction=0.000000\n",
      "(2012-06-07 00:00:00,0.0) --> prob=[0.564866129843,0.435133870157], prediction=0.000000\n",
      "(2012-06-11 00:00:00,0.0) --> prob=[0.604974795094,0.395025204906], prediction=0.000000\n",
      "(2012-06-27 00:00:00,0.0) --> prob=[0.528115813438,0.471884186562], prediction=0.000000\n",
      "(2012-06-29 00:00:00,0.0) --> prob=[0.550618082544,0.449381917456], prediction=0.000000\n",
      "(2012-07-02 00:00:00,1.0) --> prob=[0.403350779543,0.596649220457], prediction=1.000000\n",
      "(2012-07-04 00:00:00,1.0) --> prob=[0.461968845947,0.538031154053], prediction=1.000000\n",
      "(2012-07-13 00:00:00,1.0) --> prob=[0.482196977776,0.517803022224], prediction=1.000000\n",
      "(2012-07-24 00:00:00,0.0) --> prob=[0.870900959419,0.129099040581], prediction=0.000000\n",
      "(2012-07-25 00:00:00,1.0) --> prob=[0.357645695105,0.642354304895], prediction=1.000000\n",
      "(2012-07-27 00:00:00,0.0) --> prob=[0.548335007785,0.451664992215], prediction=0.000000\n",
      "(2012-07-30 00:00:00,0.0) --> prob=[0.515785899198,0.484214100802], prediction=0.000000\n",
      "(2012-08-02 00:00:00,1.0) --> prob=[0.486291642806,0.513708357194], prediction=1.000000\n",
      "(2012-08-27 00:00:00,0.0) --> prob=[0.549626852735,0.450373147265], prediction=0.000000\n",
      "(2012-09-11 00:00:00,1.0) --> prob=[0.479591977409,0.520408022591], prediction=1.000000\n",
      "(2012-09-27 00:00:00,0.0) --> prob=[0.624050811951,0.375949188049], prediction=0.000000\n",
      "(2012-10-01 00:00:00,1.0) --> prob=[0.474572985845,0.525427014155], prediction=1.000000\n",
      "(2012-10-16 00:00:00,1.0) --> prob=[0.466135200919,0.533864799081], prediction=1.000000\n",
      "(2012-10-29 00:00:00,1.0) --> prob=[0.456516779583,0.543483220417], prediction=1.000000\n",
      "(2012-11-05 00:00:00,0.0) --> prob=[0.503662304525,0.496337695475], prediction=0.000000\n",
      "(2012-11-07 00:00:00,0.0) --> prob=[0.519413861632,0.480586138368], prediction=0.000000\n",
      "(2012-11-26 00:00:00,0.0) --> prob=[0.595035565143,0.404964434857], prediction=0.000000\n",
      "(2012-12-03 00:00:00,1.0) --> prob=[0.483847716508,0.516152283492], prediction=1.000000\n",
      "(2012-12-06 00:00:00,0.0) --> prob=[0.544339082629,0.455660917371], prediction=0.000000\n",
      "(2013-01-09 00:00:00,1.0) --> prob=[0.433113556884,0.566886443116], prediction=1.000000\n",
      "(2013-01-21 00:00:00,0.0) --> prob=[0.584226107036,0.415773892964], prediction=0.000000\n",
      "(2013-01-24 00:00:00,0.0) --> prob=[0.618395990175,0.381604009825], prediction=0.000000\n",
      "(2013-01-25 00:00:00,0.0) --> prob=[0.609368709515,0.390631290485], prediction=0.000000\n",
      "(2013-02-06 00:00:00,1.0) --> prob=[0.414570168313,0.585429831687], prediction=1.000000\n",
      "(2013-02-19 00:00:00,0.0) --> prob=[0.589869017169,0.410130982831], prediction=0.000000\n",
      "(2013-03-01 00:00:00,0.0) --> prob=[0.627481289417,0.372518710583], prediction=0.000000\n",
      "(2013-03-05 00:00:00,0.0) --> prob=[0.638833905155,0.361166094845], prediction=0.000000\n",
      "(2013-03-22 00:00:00,1.0) --> prob=[0.476653824437,0.523346175563], prediction=1.000000\n",
      "(2013-04-04 00:00:00,0.0) --> prob=[0.607816229944,0.392183770056], prediction=0.000000\n",
      "(2013-04-11 00:00:00,0.0) --> prob=[0.556304312469,0.443695687531], prediction=0.000000\n",
      "(2013-04-16 00:00:00,0.0) --> prob=[0.649264129172,0.350735870828], prediction=0.000000\n",
      "(2013-04-23 00:00:00,1.0) --> prob=[0.457994966745,0.542005033255], prediction=1.000000\n",
      "(2013-05-09 00:00:00,1.0) --> prob=[0.485035962341,0.514964037659], prediction=1.000000\n",
      "(2013-05-14 00:00:00,0.0) --> prob=[0.524998176354,0.475001823646], prediction=0.000000\n",
      "(2013-05-20 00:00:00,0.0) --> prob=[0.513179036976,0.486820963024], prediction=0.000000\n",
      "(2013-05-21 00:00:00,1.0) --> prob=[0.501000338927,0.498999661073], prediction=0.000000\n",
      "(2013-05-22 00:00:00,1.0) --> prob=[0.501797119962,0.498202880038], prediction=0.000000\n",
      "(2013-05-28 00:00:00,1.0) --> prob=[0.505676937592,0.494323062408], prediction=0.000000\n",
      "(2013-06-11 00:00:00,0.0) --> prob=[0.514866293682,0.485133706318], prediction=0.000000\n",
      "(2013-06-18 00:00:00,1.0) --> prob=[0.503559215046,0.496440784954], prediction=0.000000\n",
      "(2013-07-01 00:00:00,0.0) --> prob=[0.53329378073,0.46670621927], prediction=0.000000\n",
      "(2013-07-08 00:00:00,0.0) --> prob=[0.513989739115,0.486010260885], prediction=0.000000\n",
      "(2013-07-15 00:00:00,0.0) --> prob=[0.630961988671,0.369038011329], prediction=0.000000\n",
      "(2013-07-26 00:00:00,1.0) --> prob=[0.306580207296,0.693419792704], prediction=1.000000\n",
      "(2013-07-29 00:00:00,1.0) --> prob=[0.288377764358,0.711622235642], prediction=1.000000\n",
      "(2013-08-02 00:00:00,1.0) --> prob=[0.337514831087,0.662485168913], prediction=1.000000\n",
      "(2013-08-05 00:00:00,0.0) --> prob=[0.53721111886,0.46278888114], prediction=0.000000\n",
      "(2013-08-30 00:00:00,0.0) --> prob=[0.748109804236,0.251890195764], prediction=0.000000\n",
      "(2013-09-04 00:00:00,0.0) --> prob=[0.538628061509,0.461371938491], prediction=0.000000\n",
      "(2013-09-23 00:00:00,1.0) --> prob=[0.426106177071,0.573893822929], prediction=1.000000\n",
      "(2013-09-27 00:00:00,1.0) --> prob=[0.408768626356,0.591231373644], prediction=1.000000\n",
      "(2013-10-15 00:00:00,0.0) --> prob=[0.574807490111,0.425192509889], prediction=0.000000\n",
      "(2013-10-22 00:00:00,1.0) --> prob=[0.509005239467,0.490994760533], prediction=0.000000\n",
      "(2013-10-24 00:00:00,1.0) --> prob=[0.456083630258,0.543916369742], prediction=1.000000\n",
      "(2013-10-25 00:00:00,1.0) --> prob=[0.354712029019,0.645287970981], prediction=1.000000\n",
      "(2013-11-12 00:00:00,1.0) --> prob=[0.499283575743,0.500716424257], prediction=1.000000\n",
      "(2013-11-13 00:00:00,0.0) --> prob=[0.589955160922,0.410044839078], prediction=0.000000\n",
      "(2013-11-14 00:00:00,1.0) --> prob=[0.481422777816,0.518577222184], prediction=1.000000\n",
      "(2013-11-22 00:00:00,1.0) --> prob=[0.488359520597,0.511640479403], prediction=1.000000\n",
      "(2013-11-25 00:00:00,0.0) --> prob=[0.604944681673,0.395055318327], prediction=0.000000\n",
      "(2013-12-11 00:00:00,0.0) --> prob=[0.521216180992,0.478783819008], prediction=0.000000\n",
      "(2013-12-12 00:00:00,1.0) --> prob=[0.478250229453,0.521749770547], prediction=1.000000\n",
      "(2013-12-23 00:00:00,1.0) --> prob=[0.476861032008,0.523138967992], prediction=1.000000\n",
      "(2013-12-26 00:00:00,1.0) --> prob=[0.493700861411,0.506299138589], prediction=1.000000\n",
      "(2013-12-30 00:00:00,0.0) --> prob=[0.559216348832,0.440783651168], prediction=0.000000\n",
      "(2014-01-02 00:00:00,1.0) --> prob=[0.403792088639,0.596207911361], prediction=1.000000\n",
      "(2014-01-06 00:00:00,1.0) --> prob=[0.493534452888,0.506465547112], prediction=1.000000\n",
      "(2014-01-10 00:00:00,1.0) --> prob=[0.455247200173,0.544752799827], prediction=1.000000\n",
      "(2014-01-15 00:00:00,0.0) --> prob=[0.591234273496,0.408765726504], prediction=0.000000\n",
      "(2014-01-20 00:00:00,1.0) --> prob=[0.467303516138,0.532696483862], prediction=1.000000\n",
      "(2014-01-21 00:00:00,0.0) --> prob=[0.558766300849,0.441233699151], prediction=0.000000\n",
      "(2014-02-03 00:00:00,1.0) --> prob=[0.502712745595,0.497287254405], prediction=0.000000\n",
      "(2014-02-18 00:00:00,0.0) --> prob=[0.526273287826,0.473726712174], prediction=0.000000\n",
      "(2014-02-19 00:00:00,1.0) --> prob=[0.474643288464,0.525356711536], prediction=1.000000\n",
      "(2014-03-25 00:00:00,0.0) --> prob=[0.622730520776,0.377269479224], prediction=0.000000\n",
      "(2014-04-02 00:00:00,1.0) --> prob=[0.443471869044,0.556528130956], prediction=1.000000\n",
      "(2014-04-09 00:00:00,0.0) --> prob=[0.544321616871,0.455678383129], prediction=0.000000\n",
      "(2014-04-15 00:00:00,0.0) --> prob=[0.54589954277,0.45410045723], prediction=0.000000\n",
      "(2014-04-17 00:00:00,0.0) --> prob=[0.530331724854,0.469668275146], prediction=0.000000\n",
      "(2014-05-06 00:00:00,1.0) --> prob=[0.468282580509,0.531717419491], prediction=1.000000\n",
      "(2014-05-08 00:00:00,1.0) --> prob=[0.499047994311,0.500952005689], prediction=1.000000\n",
      "(2014-05-09 00:00:00,0.0) --> prob=[0.548454470007,0.451545529993], prediction=0.000000\n",
      "(2014-05-20 00:00:00,0.0) --> prob=[0.592187755642,0.407812244358], prediction=0.000000\n",
      "(2014-06-09 00:00:00,1.0) --> prob=[0.432894586271,0.567105413729], prediction=1.000000\n",
      "(2014-06-11 00:00:00,1.0) --> prob=[0.364488535187,0.635511464813], prediction=1.000000\n",
      "(2014-06-17 00:00:00,1.0) --> prob=[0.472341533463,0.527658466537], prediction=1.000000\n",
      "(2014-06-18 00:00:00,1.0) --> prob=[0.395086413212,0.604913586788], prediction=1.000000\n",
      "(2014-06-20 00:00:00,1.0) --> prob=[0.492450626907,0.507549373093], prediction=1.000000\n",
      "(2014-07-01 00:00:00,0.0) --> prob=[0.608609044256,0.391390955744], prediction=0.000000\n",
      "(2014-07-15 00:00:00,1.0) --> prob=[0.467998620032,0.532001379968], prediction=1.000000\n",
      "(2014-07-17 00:00:00,0.0) --> prob=[0.564492014397,0.435507985603], prediction=0.000000\n",
      "(2014-07-30 00:00:00,0.0) --> prob=[0.582151066101,0.417848933899], prediction=0.000000\n",
      "(2014-08-01 00:00:00,0.0) --> prob=[0.576210095684,0.423789904316], prediction=0.000000\n",
      "(2014-08-13 00:00:00,0.0) --> prob=[0.662843705025,0.337156294975], prediction=0.000000\n",
      "(2014-08-14 00:00:00,1.0) --> prob=[0.47178011397,0.52821988603], prediction=1.000000\n",
      "(2014-09-01 00:00:00,1.0) --> prob=[0.498800328454,0.501199671546], prediction=1.000000\n",
      "(2014-09-02 00:00:00,1.0) --> prob=[0.442750495836,0.557249504164], prediction=1.000000\n",
      "(2014-09-10 00:00:00,1.0) --> prob=[0.481061856111,0.518938143889], prediction=1.000000\n",
      "(2014-09-11 00:00:00,0.0) --> prob=[0.565504025036,0.434495974964], prediction=0.000000\n",
      "(2014-09-12 00:00:00,0.0) --> prob=[0.524145651689,0.475854348311], prediction=0.000000\n",
      "(2014-09-17 00:00:00,1.0) --> prob=[0.498819944494,0.501180055506], prediction=1.000000\n",
      "(2014-09-25 00:00:00,1.0) --> prob=[0.465304928059,0.534695071941], prediction=1.000000\n",
      "(2014-11-10 00:00:00,0.0) --> prob=[0.593662424824,0.406337575176], prediction=0.000000\n",
      "(2014-11-18 00:00:00,1.0) --> prob=[0.467168897639,0.532831102361], prediction=1.000000\n",
      "(2014-11-28 00:00:00,1.0) --> prob=[0.476233735337,0.523766264663], prediction=1.000000\n",
      "(2014-12-01 00:00:00,0.0) --> prob=[0.676254812578,0.323745187422], prediction=0.000000\n",
      "(2014-12-22 00:00:00,0.0) --> prob=[0.616094237911,0.383905762089], prediction=0.000000\n",
      "(2014-12-23 00:00:00,1.0) --> prob=[0.497271283427,0.502728716573], prediction=1.000000\n",
      "(2015-01-12 00:00:00,0.0) --> prob=[0.726068775233,0.273931224767], prediction=0.000000\n",
      "(2015-01-15 00:00:00,1.0) --> prob=[0.482680652508,0.517319347492], prediction=1.000000\n",
      "(2015-01-20 00:00:00,0.0) --> prob=[0.527597373711,0.472402626289], prediction=0.000000\n",
      "(2015-01-30 00:00:00,1.0) --> prob=[0.460139735171,0.539860264829], prediction=1.000000\n",
      "(2015-02-02 00:00:00,1.0) --> prob=[0.347193891628,0.652806108372], prediction=1.000000\n",
      "(2015-02-04 00:00:00,1.0) --> prob=[0.430431947931,0.569568052069], prediction=1.000000\n",
      "(2015-02-06 00:00:00,1.0) --> prob=[0.495543346694,0.504456653306], prediction=1.000000\n",
      "(2015-02-11 00:00:00,0.0) --> prob=[0.595675668603,0.404324331397], prediction=0.000000\n",
      "(2015-02-19 00:00:00,1.0) --> prob=[0.476431132324,0.523568867676], prediction=1.000000\n",
      "(2015-02-26 00:00:00,1.0) --> prob=[0.399174490688,0.600825509312], prediction=1.000000\n",
      "(2015-03-04 00:00:00,1.0) --> prob=[0.410344642664,0.589655357336], prediction=1.000000\n",
      "(2015-03-13 00:00:00,1.0) --> prob=[0.390195065632,0.609804934368], prediction=1.000000\n",
      "(2015-03-17 00:00:00,0.0) --> prob=[0.513967896159,0.486032103841], prediction=0.000000\n",
      "(2015-03-23 00:00:00,0.0) --> prob=[0.545146349838,0.454853650162], prediction=0.000000\n",
      "(2015-03-25 00:00:00,1.0) --> prob=[0.498488331573,0.501511668427], prediction=1.000000\n",
      "(2015-03-31 00:00:00,0.0) --> prob=[0.59064299676,0.40935700324], prediction=0.000000\n",
      "(2015-04-01 00:00:00,0.0) --> prob=[0.575981538159,0.424018461841], prediction=0.000000\n",
      "(2015-04-17 00:00:00,0.0) --> prob=[0.537352597537,0.462647402463], prediction=0.000000\n",
      "(2015-04-30 00:00:00,1.0) --> prob=[0.467621022018,0.532378977982], prediction=1.000000\n",
      "(2015-05-07 00:00:00,0.0) --> prob=[0.57444307092,0.42555692908], prediction=0.000000\n",
      "(2015-05-08 00:00:00,0.0) --> prob=[0.70138601004,0.29861398996], prediction=0.000000\n",
      "(2015-05-15 00:00:00,1.0) --> prob=[0.501111625187,0.498888374813], prediction=0.000000\n",
      "(2015-05-22 00:00:00,1.0) --> prob=[0.505561036666,0.494438963334], prediction=0.000000\n",
      "(2015-05-29 00:00:00,0.0) --> prob=[0.607534990754,0.392465009246], prediction=0.000000\n",
      "(2015-06-25 00:00:00,1.0) --> prob=[0.435451750454,0.564548249546], prediction=1.000000\n",
      "(2015-06-29 00:00:00,0.0) --> prob=[0.601976743919,0.398023256081], prediction=0.000000\n",
      "(2015-06-30 00:00:00,0.0) --> prob=[0.606843393397,0.393156606603], prediction=0.000000\n",
      "(2015-07-01 00:00:00,0.0) --> prob=[0.526354035998,0.473645964002], prediction=0.000000\n",
      "(2015-07-10 00:00:00,1.0) --> prob=[0.362726133417,0.637273866583], prediction=1.000000\n",
      "(2015-07-21 00:00:00,1.0) --> prob=[0.366782224405,0.633217775595], prediction=1.000000\n",
      "(2015-07-28 00:00:00,0.0) --> prob=[0.543039225853,0.456960774147], prediction=0.000000\n",
      "(2015-08-07 00:00:00,1.0) --> prob=[0.492538760196,0.507461239804], prediction=1.000000\n",
      "(2015-08-10 00:00:00,0.0) --> prob=[0.512931069047,0.487068930953], prediction=0.000000\n",
      "(2015-08-17 00:00:00,0.0) --> prob=[0.51693669423,0.48306330577], prediction=0.000000\n",
      "(2015-08-19 00:00:00,0.0) --> prob=[0.527790435387,0.472209564613], prediction=0.000000\n",
      "(2015-08-25 00:00:00,0.0) --> prob=[0.587872963783,0.412127036217], prediction=0.000000\n",
      "(2015-09-08 00:00:00,1.0) --> prob=[0.371864384477,0.628135615523], prediction=1.000000\n",
      "(2015-09-10 00:00:00,1.0) --> prob=[0.410605773527,0.589394226473], prediction=1.000000\n",
      "(2015-09-23 00:00:00,1.0) --> prob=[0.504154696293,0.495845303707], prediction=0.000000\n",
      "(2015-09-28 00:00:00,0.0) --> prob=[0.577520255608,0.422479744392], prediction=0.000000\n",
      "(2015-10-30 00:00:00,1.0) --> prob=[0.504677355271,0.495322644729], prediction=0.000000\n",
      "(2015-11-02 00:00:00,0.0) --> prob=[0.520613783081,0.479386216919], prediction=0.000000\n",
      "(2015-11-03 00:00:00,0.0) --> prob=[0.519073817049,0.480926182951], prediction=0.000000\n",
      "(2015-11-11 00:00:00,0.0) --> prob=[0.537984190818,0.462015809182], prediction=0.000000\n",
      "(2015-11-18 00:00:00,1.0) --> prob=[0.476892946883,0.523107053117], prediction=1.000000\n",
      "(2015-12-03 00:00:00,1.0) --> prob=[0.414742337726,0.585257662274], prediction=1.000000\n",
      "(2015-12-08 00:00:00,1.0) --> prob=[0.45233075201,0.54766924799], prediction=1.000000\n",
      "(2015-12-10 00:00:00,1.0) --> prob=[0.474733432309,0.525266567691], prediction=1.000000\n",
      "(2015-12-14 00:00:00,0.0) --> prob=[0.640715200892,0.359284799108], prediction=0.000000\n",
      "(2015-12-16 00:00:00,1.0) --> prob=[0.485531994613,0.514468005387], prediction=1.000000\n",
      "(2015-12-17 00:00:00,0.0) --> prob=[0.566550679542,0.433449320458], prediction=0.000000\n",
      "(2015-12-24 00:00:00,0.0) --> prob=[0.519214598387,0.480785401613], prediction=0.000000\n",
      "(2015-12-29 00:00:00,1.0) --> prob=[0.456762432677,0.543237567323], prediction=1.000000\n",
      "(2016-01-18 00:00:00,0.0) --> prob=[0.553149705401,0.446850294599], prediction=0.000000\n",
      "(2016-01-19 00:00:00,0.0) --> prob=[0.513025886772,0.486974113228], prediction=0.000000\n",
      "(2016-02-05 00:00:00,0.0) --> prob=[0.581431026376,0.418568973624], prediction=0.000000\n",
      "(2016-02-10 00:00:00,1.0) --> prob=[0.49000109348,0.50999890652], prediction=1.000000\n",
      "(2016-02-12 00:00:00,0.0) --> prob=[0.610333750209,0.389666249791], prediction=0.000000\n",
      "(2016-02-23 00:00:00,1.0) --> prob=[0.337930860579,0.662069139421], prediction=1.000000\n",
      "(2016-03-01 00:00:00,1.0) --> prob=[0.474387568772,0.525612431228], prediction=1.000000\n",
      "(2016-03-08 00:00:00,1.0) --> prob=[0.345686456008,0.654313543992], prediction=1.000000\n",
      "(2016-03-09 00:00:00,0.0) --> prob=[0.615734284467,0.384265715533], prediction=0.000000\n",
      "(2016-03-10 00:00:00,1.0) --> prob=[0.48633817265,0.51366182735], prediction=1.000000\n",
      "(2016-03-14 00:00:00,0.0) --> prob=[0.536722488279,0.463277511721], prediction=0.000000\n",
      "(2016-03-15 00:00:00,1.0) --> prob=[0.400366470334,0.599633529666], prediction=1.000000\n",
      "(2016-03-22 00:00:00,1.0) --> prob=[0.433252026838,0.566747973162], prediction=1.000000\n",
      "(2016-03-29 00:00:00,1.0) --> prob=[0.490047771033,0.509952228967], prediction=1.000000\n",
      "(2016-03-31 00:00:00,0.0) --> prob=[0.574490440175,0.425509559825], prediction=0.000000\n",
      "(2016-04-01 00:00:00,1.0) --> prob=[0.487880462751,0.512119537249], prediction=1.000000\n",
      "(2016-04-12 00:00:00,0.0) --> prob=[0.563037203198,0.436962796802], prediction=0.000000\n",
      "(2016-05-06 00:00:00,0.0) --> prob=[0.52693054086,0.47306945914], prediction=0.000000\n",
      "(2016-05-09 00:00:00,1.0) --> prob=[0.46000496969,0.53999503031], prediction=1.000000\n",
      "(2016-05-13 00:00:00,1.0) --> prob=[0.354310925932,0.645689074068], prediction=1.000000\n",
      "(2016-05-18 00:00:00,1.0) --> prob=[0.439142192664,0.560857807336], prediction=1.000000\n",
      "(2016-05-20 00:00:00,1.0) --> prob=[0.495603264401,0.504396735599], prediction=1.000000\n",
      "(2016-06-01 00:00:00,0.0) --> prob=[0.554449094026,0.445550905974], prediction=0.000000\n",
      "(2016-06-14 00:00:00,1.0) --> prob=[0.442172733486,0.557827266514], prediction=1.000000\n",
      "(2016-06-22 00:00:00,1.0) --> prob=[0.428301608218,0.571698391782], prediction=1.000000\n",
      "(2016-06-28 00:00:00,0.0) --> prob=[0.702185546895,0.297814453105], prediction=0.000000\n",
      "(2016-06-29 00:00:00,1.0) --> prob=[0.491701831486,0.508298168514], prediction=1.000000\n",
      "(2016-07-12 00:00:00,1.0) --> prob=[0.487122867008,0.512877132992], prediction=1.000000\n",
      "(2016-07-15 00:00:00,0.0) --> prob=[0.573043870276,0.426956129724], prediction=0.000000\n",
      "(2016-07-29 00:00:00,0.0) --> prob=[0.597932674644,0.402067325356], prediction=0.000000\n",
      "(2016-08-04 00:00:00,0.0) --> prob=[0.539017766689,0.460982233311], prediction=0.000000\n",
      "(2016-08-16 00:00:00,1.0) --> prob=[0.443972102322,0.556027897678], prediction=1.000000\n",
      "(2016-08-18 00:00:00,1.0) --> prob=[0.46459319522,0.53540680478], prediction=1.000000\n",
      "(2016-08-23 00:00:00,1.0) --> prob=[0.451081454871,0.548918545129], prediction=1.000000\n",
      "(2016-08-26 00:00:00,1.0) --> prob=[0.46524599769,0.53475400231], prediction=1.000000\n",
      "(2016-09-01 00:00:00,0.0) --> prob=[0.575089421803,0.424910578197], prediction=0.000000\n",
      "(2016-09-08 00:00:00,0.0) --> prob=[0.628172139181,0.371827860819], prediction=0.000000\n",
      "(2016-10-10 00:00:00,1.0) --> prob=[0.498112845512,0.501887154488], prediction=1.000000\n",
      "(2016-10-13 00:00:00,1.0) --> prob=[0.411411015572,0.588588984428], prediction=1.000000\n",
      "(2016-10-17 00:00:00,0.0) --> prob=[0.555374141298,0.444625858702], prediction=0.000000\n",
      "(2016-10-18 00:00:00,0.0) --> prob=[0.551579216385,0.448420783615], prediction=0.000000\n",
      "(2016-10-25 00:00:00,1.0) --> prob=[0.389773933779,0.610226066221], prediction=1.000000\n",
      "(2016-11-11 00:00:00,1.0) --> prob=[0.398866691903,0.601133308097], prediction=1.000000\n",
      "(2016-11-15 00:00:00,0.0) --> prob=[0.5223768468,0.4776231532], prediction=0.000000\n",
      "(2016-11-21 00:00:00,1.0) --> prob=[0.487487659387,0.512512340613], prediction=1.000000\n",
      "(2016-11-29 00:00:00,1.0) --> prob=[0.466367137932,0.533632862068], prediction=1.000000\n",
      "(2016-12-08 00:00:00,0.0) --> prob=[0.57036136434,0.42963863566], prediction=0.000000\n",
      "(2016-12-13 00:00:00,1.0) --> prob=[0.494477507455,0.505522492545], prediction=1.000000\n",
      "(2016-12-16 00:00:00,0.0) --> prob=[0.520946610925,0.479053389075], prediction=0.000000\n",
      "(2016-12-26 00:00:00,0.0) --> prob=[0.607856392596,0.392143607404], prediction=0.000000\n",
      "(2017-01-02 00:00:00,1.0) --> prob=[0.501852130045,0.498147869955], prediction=0.000000\n",
      "(2017-01-06 00:00:00,0.0) --> prob=[0.523070910151,0.476929089849], prediction=0.000000\n",
      "(2017-01-11 00:00:00,0.0) --> prob=[0.588607354872,0.411392645128], prediction=0.000000\n",
      "(2017-01-16 00:00:00,1.0) --> prob=[0.506334648048,0.493665351952], prediction=0.000000\n",
      "(2017-01-23 00:00:00,0.0) --> prob=[0.523055268463,0.476944731537], prediction=0.000000\n",
      "(2017-02-13 00:00:00,0.0) --> prob=[0.594286724885,0.405713275115], prediction=0.000000\n",
      "(2017-02-16 00:00:00,1.0) --> prob=[0.477026233689,0.522973766311], prediction=1.000000\n",
      "(2017-02-21 00:00:00,0.0) --> prob=[0.575349612709,0.424650387291], prediction=0.000000\n",
      "(2017-02-23 00:00:00,1.0) --> prob=[0.465343811718,0.534656188282], prediction=1.000000\n",
      "(2017-02-28 00:00:00,1.0) --> prob=[0.512157476067,0.487842523933], prediction=0.000000\n",
      "(2017-03-03 00:00:00,1.0) --> prob=[0.509978529614,0.490021470386], prediction=0.000000\n",
      "(2017-04-19 00:00:00,1.0) --> prob=[0.47616803537,0.52383196463], prediction=1.000000\n",
      "(2017-04-27 00:00:00,0.0) --> prob=[0.535235944403,0.464764055597], prediction=0.000000\n",
      "(2017-05-02 00:00:00,1.0) --> prob=[0.468575634831,0.531424365169], prediction=1.000000\n",
      "(2017-05-17 00:00:00,0.0) --> prob=[0.565214250893,0.434785749107], prediction=0.000000\n",
      "(2017-05-26 00:00:00,1.0) --> prob=[0.491081419251,0.508918580749], prediction=1.000000\n",
      "(2017-05-30 00:00:00,0.0) --> prob=[0.505803650459,0.494196349541], prediction=0.000000\n",
      "(2017-06-13 00:00:00,0.0) --> prob=[0.524333571426,0.475666428574], prediction=0.000000\n",
      "(2017-06-16 00:00:00,1.0) --> prob=[0.439875594545,0.560124405455], prediction=1.000000\n",
      "(2017-06-27 00:00:00,1.0) --> prob=[0.481859646534,0.518140353466], prediction=1.000000\n",
      "(2017-07-03 00:00:00,0.0) --> prob=[0.611190537394,0.388809462606], prediction=0.000000\n",
      "(2017-07-05 00:00:00,0.0) --> prob=[0.549952607028,0.450047392972], prediction=0.000000\n",
      "(2017-07-11 00:00:00,0.0) --> prob=[0.562343518902,0.437656481098], prediction=0.000000\n",
      "(2017-07-13 00:00:00,0.0) --> prob=[0.522971846097,0.477028153903], prediction=0.000000\n",
      "(2017-07-17 00:00:00,0.0) --> prob=[0.577880064977,0.422119935023], prediction=0.000000\n",
      "(2017-07-20 00:00:00,1.0) --> prob=[0.495195937536,0.504804062464], prediction=1.000000\n",
      "(2017-07-26 00:00:00,0.0) --> prob=[0.588461415255,0.411538584745], prediction=0.000000\n",
      "(2017-07-31 00:00:00,0.0) --> prob=[0.532330659835,0.467669340165], prediction=0.000000\n",
      "(2017-08-01 00:00:00,0.0) --> prob=[0.598756592889,0.401243407111], prediction=0.000000\n",
      "(2017-08-04 00:00:00,0.0) --> prob=[0.625192816501,0.374807183499], prediction=0.000000\n",
      "(2017-08-18 00:00:00,0.0) --> prob=[0.637535920101,0.362464079899], prediction=0.000000\n",
      "(2017-08-24 00:00:00,1.0) --> prob=[0.465083447259,0.534916552741], prediction=1.000000\n",
      "(2017-09-20 00:00:00,1.0) --> prob=[0.402225257724,0.597774742276], prediction=1.000000\n",
      "(2017-09-25 00:00:00,0.0) --> prob=[0.547616184006,0.452383815994], prediction=0.000000\n",
      "(2017-10-24 00:00:00,0.0) --> prob=[0.605437739266,0.394562260734], prediction=0.000000\n",
      "(2017-10-26 00:00:00,0.0) --> prob=[0.504497910028,0.495502089972], prediction=0.000000\n",
      "(2017-11-13 00:00:00,1.0) --> prob=[0.446758425869,0.553241574131], prediction=1.000000\n",
      "(2017-11-23 00:00:00,1.0) --> prob=[0.499181960623,0.500818039377], prediction=1.000000\n",
      "(2017-11-28 00:00:00,0.0) --> prob=[0.543428959565,0.456571040435], prediction=0.000000\n",
      "(2017-11-29 00:00:00,0.0) --> prob=[0.549670824014,0.450329175986], prediction=0.000000\n",
      "(2017-12-07 00:00:00,0.0) --> prob=[0.594138976056,0.405861023944], prediction=0.000000\n",
      "(2017-12-19 00:00:00,0.0) --> prob=[0.592903294411,0.407096705589], prediction=0.000000\n"
     ]
    }
   ],
   "source": [
    "predictions = model.transform(testData)\n",
    "selected = predictions.select(\"Date\",\"label\",\"probability\", \"prediction\")\n",
    "for row in selected.collect():\n",
    "    Date,label,prob, prediction = row\n",
    "    print(\"(%s,%s) --> prob=%s, prediction=%f\" % (str(Date),label, str(prob), prediction))"
   ]
  },
  {
   "cell_type": "code",
   "execution_count": 252,
   "metadata": {
    "collapsed": true
   },
   "outputs": [],
   "source": [
    "from pyspark.ml.evaluation import BinaryClassificationEvaluator"
   ]
  },
  {
   "cell_type": "code",
   "execution_count": 253,
   "metadata": {},
   "outputs": [],
   "source": [
    "evaluator=BinaryClassificationEvaluator().setLabelCol(\"label\").setRawPredictionCol(\"rawPrediction\").setMetricName(\"areaUnderROC\")"
   ]
  },
  {
   "cell_type": "code",
   "execution_count": 254,
   "metadata": {},
   "outputs": [],
   "source": [
    "measure=evaluator.evaluate(predictions)"
   ]
  },
  {
   "cell_type": "code",
   "execution_count": 255,
   "metadata": {},
   "outputs": [
    {
     "name": "stdout",
     "output_type": "stream",
     "text": [
      "0.997215599046\n"
     ]
    }
   ],
   "source": [
    "print(measure)"
   ]
  },
  {
   "cell_type": "code",
   "execution_count": 256,
   "metadata": {
    "collapsed": true
   },
   "outputs": [],
   "source": [
    "from pyspark.ml.tuning import ParamGridBuilder, CrossValidator"
   ]
  },
  {
   "cell_type": "code",
   "execution_count": 257,
   "metadata": {
    "collapsed": true
   },
   "outputs": [],
   "source": [
    "paramGrid = (ParamGridBuilder()\n",
    "             .addGrid(lr.regParam, [0.01, 0.5, 2.0])\n",
    "             .addGrid(lr.elasticNetParam, [0.0, 0.5, 1.0])\n",
    "             .addGrid(lr.maxIter, [10, 15, 20])\n",
    "             .build())"
   ]
  },
  {
   "cell_type": "code",
   "execution_count": 258,
   "metadata": {
    "collapsed": true
   },
   "outputs": [],
   "source": [
    "cv = CrossValidator(estimator=pipeline, estimatorParamMaps=paramGrid, evaluator=evaluator, numFolds=5)"
   ]
  },
  {
   "cell_type": "code",
   "execution_count": 260,
   "metadata": {
    "collapsed": true
   },
   "outputs": [],
   "source": [
    "cvModel = cv.fit(trainingData) ## This will take some time"
   ]
  },
  {
   "cell_type": "code",
   "execution_count": 261,
   "metadata": {
    "collapsed": true
   },
   "outputs": [],
   "source": [
    "predictions2 = cvModel.transform(testData)"
   ]
  },
  {
   "cell_type": "code",
   "execution_count": 262,
   "metadata": {
    "collapsed": true
   },
   "outputs": [],
   "source": [
    "measure2=evaluator.evaluate(predictions2)"
   ]
  },
  {
   "cell_type": "code",
   "execution_count": 263,
   "metadata": {},
   "outputs": [
    {
     "name": "stdout",
     "output_type": "stream",
     "text": [
      "1.0\n"
     ]
    }
   ],
   "source": [
    "print(measure2)"
   ]
  },
  {
   "cell_type": "markdown",
   "metadata": {},
   "source": [
    "### TODO- RandomForest,  Multilayer perceptron classifier"
   ]
  },
  {
   "cell_type": "code",
   "execution_count": null,
   "metadata": {
    "collapsed": true
   },
   "outputs": [],
   "source": []
  }
 ],
 "metadata": {
  "kernelspec": {
   "display_name": "Python [default]",
   "language": "python",
   "name": "python2"
  },
  "language_info": {
   "codemirror_mode": {
    "name": "ipython",
    "version": 2
   },
   "file_extension": ".py",
   "mimetype": "text/x-python",
   "name": "python",
   "nbconvert_exporter": "python",
   "pygments_lexer": "ipython2",
   "version": "2.7.14"
  }
 },
 "nbformat": 4,
 "nbformat_minor": 2
}
