{
 "cells": [
  {
   "cell_type": "markdown",
   "metadata": {},
   "source": [
    "## The data file is sourced from quandl. It is already sorted by date descending.\n",
    "\n",
    "Contains the following attributes\n",
    "\n",
    "    Date\n",
    "    Open \n",
    "    High\n",
    "    Low\n",
    "    Last\n",
    "    Close\n",
    "    Total Trade Quantity\n",
    "    Turnover (Lacs)"
   ]
  },
  {
   "cell_type": "markdown",
   "metadata": {},
   "source": [
    "### Create Spark context and Load the file from HDFS"
   ]
  },
  {
   "cell_type": "code",
   "execution_count": 1,
   "metadata": {
    "collapsed": true
   },
   "outputs": [],
   "source": [
    "from pyspark import SparkContext, SparkConf\n",
    "from pyspark.sql import SQLContext"
   ]
  },
  {
   "cell_type": "code",
   "execution_count": 2,
   "metadata": {
    "collapsed": true
   },
   "outputs": [],
   "source": [
    "sc= SparkContext()\n",
    "sc.setLogLevel('INFO')\n",
    "spark = SQLContext(sc)"
   ]
  },
  {
   "cell_type": "code",
   "execution_count": 35,
   "metadata": {
    "collapsed": true
   },
   "outputs": [],
   "source": [
    "raw_data=spark.read.csv('hdfs://ip-172-31-53-48.ec2.internal:8020/user/anupkma7125/NSE-HINDUNILVR.csv',header=True,inferSchema=True)"
   ]
  },
  {
   "cell_type": "code",
   "execution_count": 36,
   "metadata": {},
   "outputs": [
    {
     "name": "stdout",
     "output_type": "stream",
     "text": [
      "+-------------------+------+-------+------+-------+-------+--------------------+---------------+\n",
      "|               Date|  Open|   High|   Low|   Last|  Close|Total Trade Quantity|Turnover (Lacs)|\n",
      "+-------------------+------+-------+------+-------+-------+--------------------+---------------+\n",
      "|2017-12-26 00:00:00|1350.4| 1353.9|1340.0| 1348.0| 1348.1|            913529.0|       12307.33|\n",
      "|2017-12-22 00:00:00|1341.3| 1359.5|1341.3| 1350.4| 1356.5|            561400.0|        7604.01|\n",
      "|2017-12-21 00:00:00|1365.0|1365.15|1345.1|1346.45|1348.45|            557871.0|        7532.59|\n",
      "|2017-12-20 00:00:00|1346.2|1367.95|1333.5|1367.15|1362.65|           1198943.0|       16226.24|\n",
      "|2017-12-19 00:00:00|1333.1| 1352.0|1326.5| 1352.0| 1349.7|           1227087.0|       16453.06|\n",
      "+-------------------+------+-------+------+-------+-------+--------------------+---------------+\n",
      "only showing top 5 rows\n",
      "\n"
     ]
    }
   ],
   "source": [
    "raw_data.show(5)"
   ]
  },
  {
   "cell_type": "markdown",
   "metadata": {},
   "source": [
    "### Using spark SQL window functions create the lag columns for 5 days"
   ]
  },
  {
   "cell_type": "code",
   "execution_count": 37,
   "metadata": {
    "collapsed": true
   },
   "outputs": [],
   "source": [
    "from pyspark.sql import Window"
   ]
  },
  {
   "cell_type": "code",
   "execution_count": 38,
   "metadata": {
    "collapsed": true
   },
   "outputs": [],
   "source": [
    "from pyspark.sql.functions import lag"
   ]
  },
  {
   "cell_type": "code",
   "execution_count": 39,
   "metadata": {
    "collapsed": true
   },
   "outputs": [],
   "source": [
    "windowSpec = Window.orderBy(raw_data['Date'].desc()) "
   ]
  },
  {
   "cell_type": "code",
   "execution_count": 40,
   "metadata": {
    "collapsed": true
   },
   "outputs": [],
   "source": [
    "raw_data_lag=raw_data.withColumn('OpenLag_1',lag(raw_data['Open'],-1).over(windowSpec))"
   ]
  },
  {
   "cell_type": "code",
   "execution_count": 41,
   "metadata": {},
   "outputs": [
    {
     "name": "stdout",
     "output_type": "stream",
     "text": [
      "+-------------------+------+-------+------+-------+-------+--------------------+---------------+---------+\n",
      "|               Date|  Open|   High|   Low|   Last|  Close|Total Trade Quantity|Turnover (Lacs)|OpenLag_1|\n",
      "+-------------------+------+-------+------+-------+-------+--------------------+---------------+---------+\n",
      "|2017-12-26 00:00:00|1350.4| 1353.9|1340.0| 1348.0| 1348.1|            913529.0|       12307.33|   1341.3|\n",
      "|2017-12-22 00:00:00|1341.3| 1359.5|1341.3| 1350.4| 1356.5|            561400.0|        7604.01|   1365.0|\n",
      "|2017-12-21 00:00:00|1365.0|1365.15|1345.1|1346.45|1348.45|            557871.0|        7532.59|   1346.2|\n",
      "|2017-12-20 00:00:00|1346.2|1367.95|1333.5|1367.15|1362.65|           1198943.0|       16226.24|   1333.1|\n",
      "|2017-12-19 00:00:00|1333.1| 1352.0|1326.5| 1352.0| 1349.7|           1227087.0|       16453.06|   1320.0|\n",
      "+-------------------+------+-------+------+-------+-------+--------------------+---------------+---------+\n",
      "only showing top 5 rows\n",
      "\n"
     ]
    }
   ],
   "source": [
    "raw_data_lag.show(5)"
   ]
  },
  {
   "cell_type": "code",
   "execution_count": 42,
   "metadata": {
    "collapsed": true
   },
   "outputs": [],
   "source": [
    "column_names =['Open','High','Low','Last','Close','Total Trade Quantity','Turnover (Lacs)']"
   ]
  },
  {
   "cell_type": "code",
   "execution_count": 45,
   "metadata": {},
   "outputs": [],
   "source": [
    "trans_data=raw_data\n",
    "window_spec=Window.orderBy(trans_data['Date'].desc()) \n",
    "for column in column_names:\n",
    "    for i in range(5):\n",
    "        new_column_name=column+\"Lag_\"+str(i+1)\n",
    "        value_1=lag(trans_data[column],-1*(i+1)).over(window_spec)\n",
    "        value_2=lag(trans_data[column],-1*(i+2)).over(window_spec)\n",
    "        diffpercentage = ((value_1 - value_2)/value_2)*100\n",
    "        trans_data=trans_data.withColumn(new_column_name,diffpercentage)\n",
    "value_1=lag(trans_data['Close'],-1).over(window_spec)\n",
    "diffpercentage = ((trans_data['Close'] - value_1)/value_1)*100\n",
    "trans_data_r=trans_data.withColumn('percent_change',diffpercentage)"
   ]
  },
  {
   "cell_type": "code",
   "execution_count": 46,
   "metadata": {},
   "outputs": [
    {
     "name": "stdout",
     "output_type": "stream",
     "text": [
      "+-------------------+-------+--------------------+-------+--------------------+\n",
      "|               Date|   Open|           OpenLag_1|  Close|      percent_change|\n",
      "+-------------------+-------+--------------------+-------+--------------------+\n",
      "|2017-12-26 00:00:00| 1350.4| -1.7362637362637396| 1348.1| -0.6192406929598298|\n",
      "|2017-12-22 00:00:00| 1341.3|  1.3965235477640732| 1356.5|  0.5969817197523047|\n",
      "|2017-12-21 00:00:00| 1365.0|  0.9826719675943393|1348.45| -1.0420871096760023|\n",
      "|2017-12-20 00:00:00| 1346.2|  0.9924242424242354|1362.65|  0.9594724753648993|\n",
      "|2017-12-19 00:00:00| 1333.1| -0.6248588421290338| 1349.7|  1.3478505725549124|\n",
      "|2017-12-18 00:00:00| 1320.0|  1.0882800608827972|1331.75|  0.5435808387754366|\n",
      "|2017-12-15 00:00:00| 1328.3|-0.40927694406549114|1324.55| 0.22321428571428917|\n",
      "|2017-12-14 00:00:00| 1314.0|0.022742779167628072| 1321.6|  0.4980799209155511|\n",
      "|2017-12-13 00:00:00| 1319.4| -0.7449209932279978|1315.05|0.030426349218412776|\n",
      "|2017-12-12 00:00:00| 1319.1|   2.514655970379505|1314.65| -0.7099429779842048|\n",
      "|2017-12-11 00:00:00| 1329.0|  1.5032884434700944|1324.05| -0.1959823615874674|\n",
      "|2017-12-08 00:00:00| 1296.4|  1.5060600039737768|1326.65|   2.685862455977402|\n",
      "|2017-12-07 00:00:00| 1277.2| -1.2362637362637363|1291.95|  1.2817497648165677|\n",
      "|2017-12-06 00:00:00|1258.25|   1.380654915847683| 1275.6|  1.1578112609040372|\n",
      "|2017-12-05 00:00:00| 1274.0|  -1.241699084443393| 1261.0| -0.5990856061800338|\n",
      "|2017-12-04 00:00:00|1256.65|-0.04320502749410483| 1268.6|   1.447421031587358|\n",
      "|2017-12-01 00:00:00|1272.45| 0.40619947154632574| 1250.5| -1.7250186647805448|\n",
      "|2017-11-30 00:00:00| 1273.0|  0.3840063341250918|1272.45| -0.2899345688202833|\n",
      "|2017-11-29 00:00:00|1267.85|  0.1586042823156225|1276.15|  0.6546515755018482|\n",
      "|2017-11-28 00:00:00| 1263.0| -0.6617299511580345|1267.85|  0.5990637149884912|\n",
      "+-------------------+-------+--------------------+-------+--------------------+\n",
      "only showing top 20 rows\n",
      "\n"
     ]
    }
   ],
   "source": [
    "trans_data_r.select('Date','Open','OpenLag_1','Close','percent_change').show()"
   ]
  },
  {
   "cell_type": "code",
   "execution_count": 47,
   "metadata": {
    "collapsed": true
   },
   "outputs": [],
   "source": [
    "# Remove all non lag columns"
   ]
  },
  {
   "cell_type": "code",
   "execution_count": 48,
   "metadata": {
    "collapsed": true
   },
   "outputs": [],
   "source": [
    "trans_data_required=trans_data_r.select([c for c in trans_data_r.columns if c not in column_names])"
   ]
  },
  {
   "cell_type": "code",
   "execution_count": 49,
   "metadata": {},
   "outputs": [
    {
     "name": "stdout",
     "output_type": "stream",
     "text": [
      "root\n",
      " |-- Date: timestamp (nullable = true)\n",
      " |-- OpenLag_1: double (nullable = true)\n",
      " |-- OpenLag_2: double (nullable = true)\n",
      " |-- OpenLag_3: double (nullable = true)\n",
      " |-- OpenLag_4: double (nullable = true)\n",
      " |-- OpenLag_5: double (nullable = true)\n",
      " |-- HighLag_1: double (nullable = true)\n",
      " |-- HighLag_2: double (nullable = true)\n",
      " |-- HighLag_3: double (nullable = true)\n",
      " |-- HighLag_4: double (nullable = true)\n",
      " |-- HighLag_5: double (nullable = true)\n",
      " |-- LowLag_1: double (nullable = true)\n",
      " |-- LowLag_2: double (nullable = true)\n",
      " |-- LowLag_3: double (nullable = true)\n",
      " |-- LowLag_4: double (nullable = true)\n",
      " |-- LowLag_5: double (nullable = true)\n",
      " |-- LastLag_1: double (nullable = true)\n",
      " |-- LastLag_2: double (nullable = true)\n",
      " |-- LastLag_3: double (nullable = true)\n",
      " |-- LastLag_4: double (nullable = true)\n",
      " |-- LastLag_5: double (nullable = true)\n",
      " |-- CloseLag_1: double (nullable = true)\n",
      " |-- CloseLag_2: double (nullable = true)\n",
      " |-- CloseLag_3: double (nullable = true)\n",
      " |-- CloseLag_4: double (nullable = true)\n",
      " |-- CloseLag_5: double (nullable = true)\n",
      " |-- Total Trade QuantityLag_1: double (nullable = true)\n",
      " |-- Total Trade QuantityLag_2: double (nullable = true)\n",
      " |-- Total Trade QuantityLag_3: double (nullable = true)\n",
      " |-- Total Trade QuantityLag_4: double (nullable = true)\n",
      " |-- Total Trade QuantityLag_5: double (nullable = true)\n",
      " |-- Turnover (Lacs)Lag_1: double (nullable = true)\n",
      " |-- Turnover (Lacs)Lag_2: double (nullable = true)\n",
      " |-- Turnover (Lacs)Lag_3: double (nullable = true)\n",
      " |-- Turnover (Lacs)Lag_4: double (nullable = true)\n",
      " |-- Turnover (Lacs)Lag_5: double (nullable = true)\n",
      " |-- percent_change: double (nullable = true)\n",
      "\n"
     ]
    }
   ],
   "source": [
    "trans_data_required.printSchema()"
   ]
  },
  {
   "cell_type": "markdown",
   "metadata": {},
   "source": [
    "### Drop rows with null and create categorical column for trend"
   ]
  },
  {
   "cell_type": "code",
   "execution_count": 50,
   "metadata": {
    "collapsed": true
   },
   "outputs": [],
   "source": [
    "trans_data_required=trans_data_required.dropna()"
   ]
  },
  {
   "cell_type": "code",
   "execution_count": 51,
   "metadata": {
    "collapsed": true
   },
   "outputs": [],
   "source": [
    "from pyspark.ml.feature import Bucketizer"
   ]
  },
  {
   "cell_type": "code",
   "execution_count": 52,
   "metadata": {},
   "outputs": [],
   "source": [
    "bucketizer2 = Bucketizer(splits=[-100,0,100 ],inputCol=\"percent_change\", outputCol=\"trend\")"
   ]
  },
  {
   "cell_type": "code",
   "execution_count": 53,
   "metadata": {},
   "outputs": [],
   "source": [
    "from pyspark.sql.functions import udf\n",
    "from pyspark.sql.types import StringType\n",
    "df_buck = bucketizer2.setHandleInvalid(\"keep\").transform(trans_data_required)\n",
    "t = {0.0:\"Down\", 1.0: \"Up\"}\n",
    "udf_foo = udf(lambda x: t[x], StringType())\n",
    "df_buck=df_buck.withColumn(\"trend_bucket\", udf_foo(\"trend\"))"
   ]
  },
  {
   "cell_type": "code",
   "execution_count": 54,
   "metadata": {},
   "outputs": [
    {
     "name": "stdout",
     "output_type": "stream",
     "text": [
      "+-------------------+--------------------+------------+\n",
      "|               Date|      percent_change|trend_bucket|\n",
      "+-------------------+--------------------+------------+\n",
      "|2017-12-26 00:00:00| -0.6192406929598298|        Down|\n",
      "|2017-12-22 00:00:00|  0.5969817197523047|          Up|\n",
      "|2017-12-21 00:00:00| -1.0420871096760023|        Down|\n",
      "|2017-12-20 00:00:00|  0.9594724753648993|          Up|\n",
      "|2017-12-19 00:00:00|  1.3478505725549124|          Up|\n",
      "|2017-12-18 00:00:00|  0.5435808387754366|          Up|\n",
      "|2017-12-15 00:00:00| 0.22321428571428917|          Up|\n",
      "|2017-12-14 00:00:00|  0.4980799209155511|          Up|\n",
      "|2017-12-13 00:00:00|0.030426349218412776|          Up|\n",
      "|2017-12-12 00:00:00| -0.7099429779842048|        Down|\n",
      "|2017-12-11 00:00:00| -0.1959823615874674|        Down|\n",
      "|2017-12-08 00:00:00|   2.685862455977402|          Up|\n",
      "|2017-12-07 00:00:00|  1.2817497648165677|          Up|\n",
      "|2017-12-06 00:00:00|  1.1578112609040372|          Up|\n",
      "|2017-12-05 00:00:00| -0.5990856061800338|        Down|\n",
      "|2017-12-04 00:00:00|   1.447421031587358|          Up|\n",
      "|2017-12-01 00:00:00| -1.7250186647805448|        Down|\n",
      "|2017-11-30 00:00:00| -0.2899345688202833|        Down|\n",
      "|2017-11-29 00:00:00|  0.6546515755018482|          Up|\n",
      "|2017-11-28 00:00:00|  0.5990637149884912|          Up|\n",
      "+-------------------+--------------------+------------+\n",
      "only showing top 20 rows\n",
      "\n"
     ]
    }
   ],
   "source": [
    "df_buck.select('Date','percent_change','trend_bucket').show()"
   ]
  },
  {
   "cell_type": "code",
   "execution_count": 55,
   "metadata": {
    "collapsed": true
   },
   "outputs": [],
   "source": [
    "trend_df=df_buck.select([c for c in df_buck.columns if c not in {'trend','percent_change'}])"
   ]
  },
  {
   "cell_type": "code",
   "execution_count": 56,
   "metadata": {},
   "outputs": [
    {
     "name": "stdout",
     "output_type": "stream",
     "text": [
      "root\n",
      " |-- Date: timestamp (nullable = true)\n",
      " |-- OpenLag_1: double (nullable = true)\n",
      " |-- OpenLag_2: double (nullable = true)\n",
      " |-- OpenLag_3: double (nullable = true)\n",
      " |-- OpenLag_4: double (nullable = true)\n",
      " |-- OpenLag_5: double (nullable = true)\n",
      " |-- HighLag_1: double (nullable = true)\n",
      " |-- HighLag_2: double (nullable = true)\n",
      " |-- HighLag_3: double (nullable = true)\n",
      " |-- HighLag_4: double (nullable = true)\n",
      " |-- HighLag_5: double (nullable = true)\n",
      " |-- LowLag_1: double (nullable = true)\n",
      " |-- LowLag_2: double (nullable = true)\n",
      " |-- LowLag_3: double (nullable = true)\n",
      " |-- LowLag_4: double (nullable = true)\n",
      " |-- LowLag_5: double (nullable = true)\n",
      " |-- LastLag_1: double (nullable = true)\n",
      " |-- LastLag_2: double (nullable = true)\n",
      " |-- LastLag_3: double (nullable = true)\n",
      " |-- LastLag_4: double (nullable = true)\n",
      " |-- LastLag_5: double (nullable = true)\n",
      " |-- CloseLag_1: double (nullable = true)\n",
      " |-- CloseLag_2: double (nullable = true)\n",
      " |-- CloseLag_3: double (nullable = true)\n",
      " |-- CloseLag_4: double (nullable = true)\n",
      " |-- CloseLag_5: double (nullable = true)\n",
      " |-- Total Trade QuantityLag_1: double (nullable = true)\n",
      " |-- Total Trade QuantityLag_2: double (nullable = true)\n",
      " |-- Total Trade QuantityLag_3: double (nullable = true)\n",
      " |-- Total Trade QuantityLag_4: double (nullable = true)\n",
      " |-- Total Trade QuantityLag_5: double (nullable = true)\n",
      " |-- Turnover (Lacs)Lag_1: double (nullable = true)\n",
      " |-- Turnover (Lacs)Lag_2: double (nullable = true)\n",
      " |-- Turnover (Lacs)Lag_3: double (nullable = true)\n",
      " |-- Turnover (Lacs)Lag_4: double (nullable = true)\n",
      " |-- Turnover (Lacs)Lag_5: double (nullable = true)\n",
      " |-- trend_bucket: string (nullable = true)\n",
      "\n"
     ]
    }
   ],
   "source": [
    "trend_df.printSchema()"
   ]
  },
  {
   "cell_type": "code",
   "execution_count": 57,
   "metadata": {},
   "outputs": [
    {
     "data": {
      "text/plain": [
       "DataFrame[Date: timestamp, OpenLag_1: double, OpenLag_2: double, OpenLag_3: double, OpenLag_4: double, OpenLag_5: double, HighLag_1: double, HighLag_2: double, HighLag_3: double, HighLag_4: double, HighLag_5: double, LowLag_1: double, LowLag_2: double, LowLag_3: double, LowLag_4: double, LowLag_5: double, LastLag_1: double, LastLag_2: double, LastLag_3: double, LastLag_4: double, LastLag_5: double, CloseLag_1: double, CloseLag_2: double, CloseLag_3: double, CloseLag_4: double, CloseLag_5: double, Total Trade QuantityLag_1: double, Total Trade QuantityLag_2: double, Total Trade QuantityLag_3: double, Total Trade QuantityLag_4: double, Total Trade QuantityLag_5: double, Turnover (Lacs)Lag_1: double, Turnover (Lacs)Lag_2: double, Turnover (Lacs)Lag_3: double, Turnover (Lacs)Lag_4: double, Turnover (Lacs)Lag_5: double, trend_bucket: string]"
      ]
     },
     "execution_count": 57,
     "metadata": {},
     "output_type": "execute_result"
    }
   ],
   "source": [
    "trend_df.persist()"
   ]
  },
  {
   "cell_type": "code",
   "execution_count": 58,
   "metadata": {},
   "outputs": [
    {
     "name": "stdout",
     "output_type": "stream",
     "text": [
      "+-------------------+--------------------+--------------------+--------------------+--------------------+--------------------+\n",
      "|               Date|           OpenLag_1|           OpenLag_2|           OpenLag_3|           OpenLag_4|           OpenLag_5|\n",
      "+-------------------+--------------------+--------------------+--------------------+--------------------+--------------------+\n",
      "|2017-12-26 00:00:00| -1.7362637362637396|  1.3965235477640732|  0.9826719675943393|  0.9924242424242354| -0.6248588421290338|\n",
      "|2017-12-22 00:00:00|  1.3965235477640732|  0.9826719675943393|  0.9924242424242354| -0.6248588421290338|  1.0882800608827972|\n",
      "|2017-12-21 00:00:00|  0.9826719675943393|  0.9924242424242354| -0.6248588421290338|  1.0882800608827972|-0.40927694406549114|\n",
      "|2017-12-20 00:00:00|  0.9924242424242354| -0.6248588421290338|  1.0882800608827972|-0.40927694406549114|0.022742779167628072|\n",
      "|2017-12-19 00:00:00| -0.6248588421290338|  1.0882800608827972|-0.40927694406549114|0.022742779167628072| -0.7449209932279978|\n",
      "|2017-12-18 00:00:00|  1.0882800608827972|-0.40927694406549114|0.022742779167628072| -0.7449209932279978|   2.514655970379505|\n",
      "|2017-12-15 00:00:00|-0.40927694406549114|0.022742779167628072| -0.7449209932279978|   2.514655970379505|  1.5032884434700944|\n",
      "|2017-12-14 00:00:00|0.022742779167628072| -0.7449209932279978|   2.514655970379505|  1.5032884434700944|  1.5060600039737768|\n",
      "|2017-12-13 00:00:00| -0.7449209932279978|   2.514655970379505|  1.5032884434700944|  1.5060600039737768| -1.2362637362637363|\n",
      "|2017-12-12 00:00:00|   2.514655970379505|  1.5032884434700944|  1.5060600039737768| -1.2362637362637363|   1.380654915847683|\n",
      "|2017-12-11 00:00:00|  1.5032884434700944|  1.5060600039737768| -1.2362637362637363|   1.380654915847683|  -1.241699084443393|\n",
      "|2017-12-08 00:00:00|  1.5060600039737768| -1.2362637362637363|   1.380654915847683|  -1.241699084443393|-0.04320502749410483|\n",
      "|2017-12-07 00:00:00| -1.2362637362637363|   1.380654915847683|  -1.241699084443393|-0.04320502749410483| 0.40619947154632574|\n",
      "|2017-12-06 00:00:00|   1.380654915847683|  -1.241699084443393|-0.04320502749410483| 0.40619947154632574|  0.3840063341250918|\n",
      "|2017-12-05 00:00:00|  -1.241699084443393|-0.04320502749410483| 0.40619947154632574|  0.3840063341250918|  0.1586042823156225|\n",
      "|2017-12-04 00:00:00|-0.04320502749410483| 0.40619947154632574|  0.3840063341250918|  0.1586042823156225| -0.6617299511580345|\n",
      "|2017-12-01 00:00:00| 0.40619947154632574|  0.3840063341250918|  0.1586042823156225| -0.6617299511580345| -0.4392156862745027|\n",
      "|2017-11-30 00:00:00|  0.3840063341250918|  0.1586042823156225| -0.6617299511580345| -0.4392156862745027|                 0.0|\n",
      "|2017-11-29 00:00:00|  0.1586042823156225| -0.6617299511580345| -0.4392156862745027|                 0.0|                 0.0|\n",
      "|2017-11-28 00:00:00| -0.6617299511580345| -0.4392156862745027|                 0.0|                 0.0|           -0.390625|\n",
      "|2017-11-27 00:00:00| -0.4392156862745027|                 0.0|                 0.0|           -0.390625|   -0.15600624024961|\n",
      "|2017-11-24 00:00:00|                 0.0|                 0.0|           -0.390625|   -0.15600624024961|  0.9448818897637795|\n",
      "|2017-11-23 00:00:00|                 0.0|           -0.390625|   -0.15600624024961|  0.9448818897637795| -1.0826388348002252|\n",
      "|2017-11-22 00:00:00|           -0.390625|   -0.15600624024961|  0.9448818897637795| -1.0826388348002252|-0.17105979317314504|\n",
      "|2017-11-21 00:00:00|   -0.15600624024961|  0.9448818897637795| -1.0826388348002252|-0.17105979317314504| -0.6872586872586943|\n",
      "|2017-11-20 00:00:00|  0.9448818897637795| -1.0826388348002252|-0.17105979317314504| -0.6872586872586943|   3.216036344797346|\n",
      "|2017-11-17 00:00:00| -1.0826388348002252|-0.17105979317314504| -0.6872586872586943|   3.216036344797346|  0.4121648659463858|\n",
      "|2017-11-16 00:00:00|-0.17105979317314504| -0.6872586872586943|   3.216036344797346|  0.4121648659463858|  0.7376950054420197|\n",
      "|2017-11-15 00:00:00| -0.6872586872586943|   3.216036344797346|  0.4121648659463858|  0.7376950054420197|  0.4250667962108332|\n",
      "|2017-11-14 00:00:00|   3.216036344797346|  0.4121648659463858|  0.7376950054420197|  0.4250667962108332| -0.3147699757869323|\n",
      "|2017-11-13 00:00:00|  0.4121648659463858|  0.7376950054420197|  0.4250667962108332| -0.3147699757869323|-0.48192771084337355|\n",
      "|2017-11-10 00:00:00|  0.7376950054420197|  0.4250667962108332| -0.3147699757869323|-0.48192771084337355|   -1.26883425852498|\n",
      "|2017-11-09 00:00:00|  0.4250667962108332| -0.3147699757869323|-0.48192771084337355|   -1.26883425852498|  1.8002744813110483|\n",
      "|2017-11-08 00:00:00| -0.3147699757869323|-0.48192771084337355|   -1.26883425852498|  1.8002744813110483|-0.18533440773569337|\n",
      "|2017-11-07 00:00:00|-0.48192771084337355|   -1.26883425852498|  1.8002744813110483|-0.18533440773569337|  -1.507936507936508|\n",
      "|2017-11-06 00:00:00|   -1.26883425852498|  1.8002744813110483|-0.18533440773569337|  -1.507936507936508| -1.0756065007458622|\n",
      "|2017-11-03 00:00:00|  1.8002744813110483|-0.18533440773569337|  -1.507936507936508| -1.0756065007458622| -0.8793774319066113|\n",
      "|2017-11-02 00:00:00|-0.18533440773569337|  -1.507936507936508| -1.0756065007458622| -0.8793774319066113|   0.312256049960968|\n",
      "|2017-11-01 00:00:00|  -1.507936507936508| -1.0756065007458622| -0.8793774319066113|   0.312256049960968|    2.07984699976093|\n",
      "|2017-10-31 00:00:00| -1.0756065007458622| -0.8793774319066113|   0.312256049960968|    2.07984699976093| -0.8767772511848269|\n",
      "+-------------------+--------------------+--------------------+--------------------+--------------------+--------------------+\n",
      "only showing top 40 rows\n",
      "\n"
     ]
    }
   ],
   "source": [
    "trans_data.select('Date','OpenLag_1','OpenLag_2','OpenLag_3','OpenLag_4','OpenLag_5').show(40)"
   ]
  },
  {
   "cell_type": "markdown",
   "metadata": {},
   "source": [
    "## Train Test split, Scaling, Different Classification models, Score"
   ]
  },
  {
   "cell_type": "code",
   "execution_count": 59,
   "metadata": {
    "collapsed": true
   },
   "outputs": [],
   "source": [
    "from pyspark.ml.classification import LogisticRegression"
   ]
  },
  {
   "cell_type": "code",
   "execution_count": 60,
   "metadata": {
    "collapsed": true
   },
   "outputs": [],
   "source": [
    "feature_Columns=trend_df.columns\n",
    "feature_Columns.remove('trend_bucket')\n",
    "feature_Columns.remove('Date')"
   ]
  },
  {
   "cell_type": "code",
   "execution_count": 61,
   "metadata": {},
   "outputs": [
    {
     "data": {
      "text/plain": [
       "['OpenLag_1',\n",
       " 'OpenLag_2',\n",
       " 'OpenLag_3',\n",
       " 'OpenLag_4',\n",
       " 'OpenLag_5',\n",
       " 'HighLag_1',\n",
       " 'HighLag_2',\n",
       " 'HighLag_3',\n",
       " 'HighLag_4',\n",
       " 'HighLag_5',\n",
       " 'LowLag_1',\n",
       " 'LowLag_2',\n",
       " 'LowLag_3',\n",
       " 'LowLag_4',\n",
       " 'LowLag_5',\n",
       " 'LastLag_1',\n",
       " 'LastLag_2',\n",
       " 'LastLag_3',\n",
       " 'LastLag_4',\n",
       " 'LastLag_5',\n",
       " 'CloseLag_1',\n",
       " 'CloseLag_2',\n",
       " 'CloseLag_3',\n",
       " 'CloseLag_4',\n",
       " 'CloseLag_5',\n",
       " 'Total Trade QuantityLag_1',\n",
       " 'Total Trade QuantityLag_2',\n",
       " 'Total Trade QuantityLag_3',\n",
       " 'Total Trade QuantityLag_4',\n",
       " 'Total Trade QuantityLag_5',\n",
       " 'Turnover (Lacs)Lag_1',\n",
       " 'Turnover (Lacs)Lag_2',\n",
       " 'Turnover (Lacs)Lag_3',\n",
       " 'Turnover (Lacs)Lag_4',\n",
       " 'Turnover (Lacs)Lag_5']"
      ]
     },
     "execution_count": 61,
     "metadata": {},
     "output_type": "execute_result"
    }
   ],
   "source": [
    "feature_Columns"
   ]
  },
  {
   "cell_type": "code",
   "execution_count": 62,
   "metadata": {
    "collapsed": true
   },
   "outputs": [],
   "source": [
    "from pyspark.ml.feature import *"
   ]
  },
  {
   "cell_type": "code",
   "execution_count": 63,
   "metadata": {
    "collapsed": true
   },
   "outputs": [],
   "source": [
    "assembler = VectorAssembler().setInputCols(feature_Columns).setOutputCol(\"features\")"
   ]
  },
  {
   "cell_type": "code",
   "execution_count": 64,
   "metadata": {
    "collapsed": true
   },
   "outputs": [],
   "source": [
    "labelIndexer = StringIndexer().setInputCol(\"trend_bucket\").setOutputCol(\"label\")"
   ]
  },
  {
   "cell_type": "code",
   "execution_count": 65,
   "metadata": {
    "collapsed": true
   },
   "outputs": [],
   "source": [
    "lr = LogisticRegression().setMaxIter(10).setRegParam(0.3).setElasticNetParam(0.8)"
   ]
  },
  {
   "cell_type": "code",
   "execution_count": 66,
   "metadata": {
    "collapsed": true
   },
   "outputs": [],
   "source": [
    "from pyspark.ml import Pipeline"
   ]
  },
  {
   "cell_type": "code",
   "execution_count": 67,
   "metadata": {
    "collapsed": true
   },
   "outputs": [],
   "source": [
    "pipeline = Pipeline(stages=[assembler, labelIndexer, lr])"
   ]
  },
  {
   "cell_type": "code",
   "execution_count": 68,
   "metadata": {
    "collapsed": true
   },
   "outputs": [],
   "source": [
    "splitSeed = 5043\n",
    "trainingData, testData = trend_df.randomSplit([0.8, 0.2], splitSeed)"
   ]
  },
  {
   "cell_type": "code",
   "execution_count": 69,
   "metadata": {},
   "outputs": [
    {
     "data": {
      "text/plain": [
       "2081"
      ]
     },
     "execution_count": 69,
     "metadata": {},
     "output_type": "execute_result"
    }
   ],
   "source": [
    "trainingData.count()"
   ]
  },
  {
   "cell_type": "code",
   "execution_count": 70,
   "metadata": {},
   "outputs": [
    {
     "data": {
      "text/plain": [
       "500"
      ]
     },
     "execution_count": 70,
     "metadata": {},
     "output_type": "execute_result"
    }
   ],
   "source": [
    "testData.count()"
   ]
  },
  {
   "cell_type": "code",
   "execution_count": 71,
   "metadata": {
    "collapsed": true
   },
   "outputs": [],
   "source": [
    "model = pipeline.fit(trainingData)"
   ]
  },
  {
   "cell_type": "code",
   "execution_count": 72,
   "metadata": {},
   "outputs": [
    {
     "name": "stdout",
     "output_type": "stream",
     "text": [
      "(2007-08-06 00:00:00,1.0) --> prob=[0.509370494954,0.490629505046], prediction=0.000000\n",
      "(2007-08-31 00:00:00,0.0) --> prob=[0.509370494954,0.490629505046], prediction=0.000000\n",
      "(2007-10-11 00:00:00,0.0) --> prob=[0.509370494954,0.490629505046], prediction=0.000000\n",
      "(2007-10-12 00:00:00,1.0) --> prob=[0.509370494954,0.490629505046], prediction=0.000000\n",
      "(2007-10-15 00:00:00,1.0) --> prob=[0.509370494954,0.490629505046], prediction=0.000000\n",
      "(2007-10-18 00:00:00,0.0) --> prob=[0.509370494954,0.490629505046], prediction=0.000000\n",
      "(2007-10-19 00:00:00,1.0) --> prob=[0.509370494954,0.490629505046], prediction=0.000000\n",
      "(2007-11-05 00:00:00,1.0) --> prob=[0.509370494954,0.490629505046], prediction=0.000000\n",
      "(2007-11-06 00:00:00,0.0) --> prob=[0.509370494954,0.490629505046], prediction=0.000000\n",
      "(2007-11-07 00:00:00,1.0) --> prob=[0.509370494954,0.490629505046], prediction=0.000000\n",
      "(2007-11-09 00:00:00,1.0) --> prob=[0.509370494954,0.490629505046], prediction=0.000000\n",
      "(2007-12-14 00:00:00,0.0) --> prob=[0.509370494954,0.490629505046], prediction=0.000000\n",
      "(2007-12-26 00:00:00,1.0) --> prob=[0.509370494954,0.490629505046], prediction=0.000000\n",
      "(2007-12-27 00:00:00,0.0) --> prob=[0.509370494954,0.490629505046], prediction=0.000000\n",
      "(2008-01-04 00:00:00,0.0) --> prob=[0.509370494954,0.490629505046], prediction=0.000000\n",
      "(2008-01-23 00:00:00,0.0) --> prob=[0.509370494954,0.490629505046], prediction=0.000000\n",
      "(2008-02-07 00:00:00,1.0) --> prob=[0.509370494954,0.490629505046], prediction=0.000000\n",
      "(2008-02-15 00:00:00,0.0) --> prob=[0.509370494954,0.490629505046], prediction=0.000000\n",
      "(2008-02-19 00:00:00,0.0) --> prob=[0.509370494954,0.490629505046], prediction=0.000000\n",
      "(2008-03-10 00:00:00,1.0) --> prob=[0.509370494954,0.490629505046], prediction=0.000000\n",
      "(2008-03-28 00:00:00,1.0) --> prob=[0.509370494954,0.490629505046], prediction=0.000000\n",
      "(2008-04-02 00:00:00,1.0) --> prob=[0.509370494954,0.490629505046], prediction=0.000000\n",
      "(2008-05-07 00:00:00,0.0) --> prob=[0.509370494954,0.490629505046], prediction=0.000000\n",
      "(2008-05-14 00:00:00,1.0) --> prob=[0.509370494954,0.490629505046], prediction=0.000000\n",
      "(2008-05-30 00:00:00,0.0) --> prob=[0.509370494954,0.490629505046], prediction=0.000000\n",
      "(2008-06-02 00:00:00,1.0) --> prob=[0.509370494954,0.490629505046], prediction=0.000000\n",
      "(2008-06-03 00:00:00,0.0) --> prob=[0.509370494954,0.490629505046], prediction=0.000000\n",
      "(2008-06-06 00:00:00,1.0) --> prob=[0.509370494954,0.490629505046], prediction=0.000000\n",
      "(2008-06-11 00:00:00,1.0) --> prob=[0.509370494954,0.490629505046], prediction=0.000000\n",
      "(2008-06-26 00:00:00,1.0) --> prob=[0.509370494954,0.490629505046], prediction=0.000000\n",
      "(2008-07-08 00:00:00,0.0) --> prob=[0.509370494954,0.490629505046], prediction=0.000000\n",
      "(2008-07-17 00:00:00,0.0) --> prob=[0.509370494954,0.490629505046], prediction=0.000000\n",
      "(2008-07-18 00:00:00,0.0) --> prob=[0.509370494954,0.490629505046], prediction=0.000000\n",
      "(2008-07-21 00:00:00,0.0) --> prob=[0.509370494954,0.490629505046], prediction=0.000000\n",
      "(2008-07-22 00:00:00,0.0) --> prob=[0.509370494954,0.490629505046], prediction=0.000000\n",
      "(2008-07-23 00:00:00,1.0) --> prob=[0.509370494954,0.490629505046], prediction=0.000000\n",
      "(2008-07-31 00:00:00,0.0) --> prob=[0.509370494954,0.490629505046], prediction=0.000000\n",
      "(2008-08-11 00:00:00,1.0) --> prob=[0.509370494954,0.490629505046], prediction=0.000000\n",
      "(2008-08-18 00:00:00,0.0) --> prob=[0.509370494954,0.490629505046], prediction=0.000000\n",
      "(2008-08-22 00:00:00,0.0) --> prob=[0.509370494954,0.490629505046], prediction=0.000000\n",
      "(2008-08-26 00:00:00,0.0) --> prob=[0.509370494954,0.490629505046], prediction=0.000000\n",
      "(2008-09-05 00:00:00,0.0) --> prob=[0.509370494954,0.490629505046], prediction=0.000000\n",
      "(2008-09-08 00:00:00,0.0) --> prob=[0.509370494954,0.490629505046], prediction=0.000000\n",
      "(2008-09-09 00:00:00,1.0) --> prob=[0.509370494954,0.490629505046], prediction=0.000000\n",
      "(2008-09-15 00:00:00,1.0) --> prob=[0.509370494954,0.490629505046], prediction=0.000000\n",
      "(2008-09-16 00:00:00,1.0) --> prob=[0.509370494954,0.490629505046], prediction=0.000000\n",
      "(2008-09-23 00:00:00,1.0) --> prob=[0.509370494954,0.490629505046], prediction=0.000000\n",
      "(2008-09-30 00:00:00,1.0) --> prob=[0.509370494954,0.490629505046], prediction=0.000000\n",
      "(2008-10-06 00:00:00,1.0) --> prob=[0.509370494954,0.490629505046], prediction=0.000000\n",
      "(2008-10-13 00:00:00,0.0) --> prob=[0.509370494954,0.490629505046], prediction=0.000000\n",
      "(2008-10-16 00:00:00,0.0) --> prob=[0.509370494954,0.490629505046], prediction=0.000000\n",
      "(2008-10-17 00:00:00,1.0) --> prob=[0.509370494954,0.490629505046], prediction=0.000000\n",
      "(2008-10-28 00:00:00,0.0) --> prob=[0.509370494954,0.490629505046], prediction=0.000000\n",
      "(2008-11-03 00:00:00,0.0) --> prob=[0.509370494954,0.490629505046], prediction=0.000000\n",
      "(2008-11-11 00:00:00,1.0) --> prob=[0.509370494954,0.490629505046], prediction=0.000000\n",
      "(2008-11-20 00:00:00,0.0) --> prob=[0.509370494954,0.490629505046], prediction=0.000000\n",
      "(2008-12-11 00:00:00,1.0) --> prob=[0.509370494954,0.490629505046], prediction=0.000000\n",
      "(2008-12-17 00:00:00,0.0) --> prob=[0.509370494954,0.490629505046], prediction=0.000000\n",
      "(2008-12-22 00:00:00,1.0) --> prob=[0.509370494954,0.490629505046], prediction=0.000000\n",
      "(2009-01-09 00:00:00,0.0) --> prob=[0.509370494954,0.490629505046], prediction=0.000000\n",
      "(2009-01-30 00:00:00,0.0) --> prob=[0.509370494954,0.490629505046], prediction=0.000000\n",
      "(2009-02-09 00:00:00,1.0) --> prob=[0.509370494954,0.490629505046], prediction=0.000000\n",
      "(2009-02-10 00:00:00,1.0) --> prob=[0.509370494954,0.490629505046], prediction=0.000000\n",
      "(2009-02-13 00:00:00,0.0) --> prob=[0.509370494954,0.490629505046], prediction=0.000000\n",
      "(2009-02-17 00:00:00,1.0) --> prob=[0.509370494954,0.490629505046], prediction=0.000000\n",
      "(2009-03-03 00:00:00,1.0) --> prob=[0.509370494954,0.490629505046], prediction=0.000000\n",
      "(2009-03-04 00:00:00,1.0) --> prob=[0.509370494954,0.490629505046], prediction=0.000000\n",
      "(2009-03-17 00:00:00,1.0) --> prob=[0.509370494954,0.490629505046], prediction=0.000000\n",
      "(2009-03-20 00:00:00,0.0) --> prob=[0.509370494954,0.490629505046], prediction=0.000000\n",
      "(2009-03-23 00:00:00,0.0) --> prob=[0.509370494954,0.490629505046], prediction=0.000000\n",
      "(2009-03-24 00:00:00,0.0) --> prob=[0.509370494954,0.490629505046], prediction=0.000000\n",
      "(2009-03-26 00:00:00,0.0) --> prob=[0.509370494954,0.490629505046], prediction=0.000000\n",
      "(2009-04-02 00:00:00,1.0) --> prob=[0.509370494954,0.490629505046], prediction=0.000000\n",
      "(2009-04-08 00:00:00,0.0) --> prob=[0.509370494954,0.490629505046], prediction=0.000000\n",
      "(2009-04-28 00:00:00,1.0) --> prob=[0.509370494954,0.490629505046], prediction=0.000000\n",
      "(2009-05-05 00:00:00,1.0) --> prob=[0.509370494954,0.490629505046], prediction=0.000000\n",
      "(2009-05-08 00:00:00,0.0) --> prob=[0.509370494954,0.490629505046], prediction=0.000000\n",
      "(2009-05-13 00:00:00,1.0) --> prob=[0.509370494954,0.490629505046], prediction=0.000000\n",
      "(2009-05-19 00:00:00,1.0) --> prob=[0.509370494954,0.490629505046], prediction=0.000000\n",
      "(2009-05-26 00:00:00,1.0) --> prob=[0.509370494954,0.490629505046], prediction=0.000000\n",
      "(2009-05-27 00:00:00,1.0) --> prob=[0.509370494954,0.490629505046], prediction=0.000000\n",
      "(2009-05-29 00:00:00,1.0) --> prob=[0.509370494954,0.490629505046], prediction=0.000000\n",
      "(2009-06-10 00:00:00,0.0) --> prob=[0.509370494954,0.490629505046], prediction=0.000000\n",
      "(2009-06-11 00:00:00,1.0) --> prob=[0.509370494954,0.490629505046], prediction=0.000000\n",
      "(2009-06-16 00:00:00,0.0) --> prob=[0.509370494954,0.490629505046], prediction=0.000000\n",
      "(2009-07-02 00:00:00,1.0) --> prob=[0.509370494954,0.490629505046], prediction=0.000000\n",
      "(2009-07-15 00:00:00,0.0) --> prob=[0.509370494954,0.490629505046], prediction=0.000000\n",
      "(2009-07-31 00:00:00,0.0) --> prob=[0.509370494954,0.490629505046], prediction=0.000000\n",
      "(2009-08-13 00:00:00,0.0) --> prob=[0.509370494954,0.490629505046], prediction=0.000000\n",
      "(2009-08-27 00:00:00,1.0) --> prob=[0.509370494954,0.490629505046], prediction=0.000000\n",
      "(2009-08-28 00:00:00,0.0) --> prob=[0.509370494954,0.490629505046], prediction=0.000000\n",
      "(2009-09-02 00:00:00,0.0) --> prob=[0.509370494954,0.490629505046], prediction=0.000000\n",
      "(2009-09-03 00:00:00,0.0) --> prob=[0.509370494954,0.490629505046], prediction=0.000000\n",
      "(2009-09-08 00:00:00,1.0) --> prob=[0.509370494954,0.490629505046], prediction=0.000000\n",
      "(2009-09-17 00:00:00,0.0) --> prob=[0.509370494954,0.490629505046], prediction=0.000000\n",
      "(2009-09-29 00:00:00,0.0) --> prob=[0.509370494954,0.490629505046], prediction=0.000000\n",
      "(2009-10-16 00:00:00,1.0) --> prob=[0.509370494954,0.490629505046], prediction=0.000000\n",
      "(2009-10-22 00:00:00,0.0) --> prob=[0.509370494954,0.490629505046], prediction=0.000000\n",
      "(2009-10-26 00:00:00,1.0) --> prob=[0.509370494954,0.490629505046], prediction=0.000000\n",
      "(2009-10-30 00:00:00,0.0) --> prob=[0.509370494954,0.490629505046], prediction=0.000000\n",
      "(2009-11-05 00:00:00,0.0) --> prob=[0.509370494954,0.490629505046], prediction=0.000000\n",
      "(2009-11-06 00:00:00,1.0) --> prob=[0.509370494954,0.490629505046], prediction=0.000000\n",
      "(2009-11-09 00:00:00,1.0) --> prob=[0.509370494954,0.490629505046], prediction=0.000000\n",
      "(2009-11-10 00:00:00,1.0) --> prob=[0.509370494954,0.490629505046], prediction=0.000000\n",
      "(2009-11-12 00:00:00,1.0) --> prob=[0.509370494954,0.490629505046], prediction=0.000000\n",
      "(2009-11-18 00:00:00,0.0) --> prob=[0.509370494954,0.490629505046], prediction=0.000000\n",
      "(2009-12-09 00:00:00,1.0) --> prob=[0.509370494954,0.490629505046], prediction=0.000000\n",
      "(2009-12-15 00:00:00,1.0) --> prob=[0.509370494954,0.490629505046], prediction=0.000000\n",
      "(2009-12-21 00:00:00,1.0) --> prob=[0.509370494954,0.490629505046], prediction=0.000000\n",
      "(2009-12-30 00:00:00,0.0) --> prob=[0.509370494954,0.490629505046], prediction=0.000000\n",
      "(2010-01-12 00:00:00,1.0) --> prob=[0.509370494954,0.490629505046], prediction=0.000000\n",
      "(2010-01-13 00:00:00,0.0) --> prob=[0.509370494954,0.490629505046], prediction=0.000000\n",
      "(2010-01-18 00:00:00,0.0) --> prob=[0.509370494954,0.490629505046], prediction=0.000000\n",
      "(2010-01-21 00:00:00,1.0) --> prob=[0.509370494954,0.490629505046], prediction=0.000000\n",
      "(2010-02-06 00:00:00,0.0) --> prob=[0.509370494954,0.490629505046], prediction=0.000000\n",
      "(2010-02-17 00:00:00,0.0) --> prob=[0.509370494954,0.490629505046], prediction=0.000000\n",
      "(2010-02-23 00:00:00,1.0) --> prob=[0.509370494954,0.490629505046], prediction=0.000000\n",
      "(2010-02-26 00:00:00,0.0) --> prob=[0.509370494954,0.490629505046], prediction=0.000000\n",
      "(2010-03-02 00:00:00,1.0) --> prob=[0.509370494954,0.490629505046], prediction=0.000000\n",
      "(2010-03-05 00:00:00,1.0) --> prob=[0.509370494954,0.490629505046], prediction=0.000000\n",
      "(2010-03-08 00:00:00,1.0) --> prob=[0.509370494954,0.490629505046], prediction=0.000000\n",
      "(2010-03-12 00:00:00,1.0) --> prob=[0.509370494954,0.490629505046], prediction=0.000000\n",
      "(2010-03-30 00:00:00,0.0) --> prob=[0.509370494954,0.490629505046], prediction=0.000000\n",
      "(2010-04-07 00:00:00,1.0) --> prob=[0.509370494954,0.490629505046], prediction=0.000000\n",
      "(2010-04-08 00:00:00,1.0) --> prob=[0.509370494954,0.490629505046], prediction=0.000000\n",
      "(2010-04-09 00:00:00,1.0) --> prob=[0.509370494954,0.490629505046], prediction=0.000000\n",
      "(2010-04-15 00:00:00,0.0) --> prob=[0.509370494954,0.490629505046], prediction=0.000000\n",
      "(2010-04-21 00:00:00,0.0) --> prob=[0.509370494954,0.490629505046], prediction=0.000000\n",
      "(2010-04-30 00:00:00,0.0) --> prob=[0.509370494954,0.490629505046], prediction=0.000000\n",
      "(2010-05-04 00:00:00,1.0) --> prob=[0.509370494954,0.490629505046], prediction=0.000000\n",
      "(2010-05-10 00:00:00,0.0) --> prob=[0.509370494954,0.490629505046], prediction=0.000000\n",
      "(2010-05-17 00:00:00,0.0) --> prob=[0.509370494954,0.490629505046], prediction=0.000000\n",
      "(2010-05-19 00:00:00,1.0) --> prob=[0.509370494954,0.490629505046], prediction=0.000000\n",
      "(2010-05-25 00:00:00,1.0) --> prob=[0.509370494954,0.490629505046], prediction=0.000000\n",
      "(2010-05-26 00:00:00,0.0) --> prob=[0.509370494954,0.490629505046], prediction=0.000000\n",
      "(2010-06-01 00:00:00,1.0) --> prob=[0.509370494954,0.490629505046], prediction=0.000000\n",
      "(2010-06-04 00:00:00,0.0) --> prob=[0.509370494954,0.490629505046], prediction=0.000000\n",
      "(2010-06-09 00:00:00,1.0) --> prob=[0.509370494954,0.490629505046], prediction=0.000000\n",
      "(2010-06-21 00:00:00,0.0) --> prob=[0.509370494954,0.490629505046], prediction=0.000000\n",
      "(2010-06-22 00:00:00,0.0) --> prob=[0.509370494954,0.490629505046], prediction=0.000000\n",
      "(2010-06-30 00:00:00,0.0) --> prob=[0.509370494954,0.490629505046], prediction=0.000000\n",
      "(2010-07-06 00:00:00,0.0) --> prob=[0.509370494954,0.490629505046], prediction=0.000000\n",
      "(2010-07-08 00:00:00,1.0) --> prob=[0.509370494954,0.490629505046], prediction=0.000000\n",
      "(2010-07-12 00:00:00,1.0) --> prob=[0.509370494954,0.490629505046], prediction=0.000000\n",
      "(2010-07-19 00:00:00,1.0) --> prob=[0.509370494954,0.490629505046], prediction=0.000000\n",
      "(2010-07-29 00:00:00,0.0) --> prob=[0.509370494954,0.490629505046], prediction=0.000000\n",
      "(2010-08-02 00:00:00,0.0) --> prob=[0.509370494954,0.490629505046], prediction=0.000000\n",
      "(2010-08-03 00:00:00,1.0) --> prob=[0.509370494954,0.490629505046], prediction=0.000000\n",
      "(2010-08-04 00:00:00,0.0) --> prob=[0.509370494954,0.490629505046], prediction=0.000000\n",
      "(2010-08-24 00:00:00,0.0) --> prob=[0.509370494954,0.490629505046], prediction=0.000000\n",
      "(2010-08-30 00:00:00,1.0) --> prob=[0.509370494954,0.490629505046], prediction=0.000000\n",
      "(2010-09-14 00:00:00,1.0) --> prob=[0.509370494954,0.490629505046], prediction=0.000000\n",
      "(2010-09-30 00:00:00,0.0) --> prob=[0.509370494954,0.490629505046], prediction=0.000000\n",
      "(2010-10-12 00:00:00,1.0) --> prob=[0.509370494954,0.490629505046], prediction=0.000000\n",
      "(2010-10-19 00:00:00,0.0) --> prob=[0.509370494954,0.490629505046], prediction=0.000000\n",
      "(2010-10-25 00:00:00,0.0) --> prob=[0.509370494954,0.490629505046], prediction=0.000000\n",
      "(2010-11-08 00:00:00,0.0) --> prob=[0.509370494954,0.490629505046], prediction=0.000000\n",
      "(2010-11-19 00:00:00,1.0) --> prob=[0.509370494954,0.490629505046], prediction=0.000000\n",
      "(2010-12-02 00:00:00,1.0) --> prob=[0.509370494954,0.490629505046], prediction=0.000000\n",
      "(2010-12-10 00:00:00,0.0) --> prob=[0.509370494954,0.490629505046], prediction=0.000000\n",
      "(2010-12-14 00:00:00,1.0) --> prob=[0.509370494954,0.490629505046], prediction=0.000000\n",
      "(2011-01-12 00:00:00,1.0) --> prob=[0.509370494954,0.490629505046], prediction=0.000000\n",
      "(2011-01-19 00:00:00,1.0) --> prob=[0.509370494954,0.490629505046], prediction=0.000000\n",
      "(2011-03-10 00:00:00,1.0) --> prob=[0.509370494954,0.490629505046], prediction=0.000000\n",
      "(2011-03-15 00:00:00,1.0) --> prob=[0.509370494954,0.490629505046], prediction=0.000000\n",
      "(2011-03-24 00:00:00,1.0) --> prob=[0.509370494954,0.490629505046], prediction=0.000000\n",
      "(2011-03-29 00:00:00,0.0) --> prob=[0.509370494954,0.490629505046], prediction=0.000000\n",
      "(2011-03-30 00:00:00,0.0) --> prob=[0.509370494954,0.490629505046], prediction=0.000000\n",
      "(2011-04-04 00:00:00,1.0) --> prob=[0.509370494954,0.490629505046], prediction=0.000000\n",
      "(2011-04-05 00:00:00,1.0) --> prob=[0.509370494954,0.490629505046], prediction=0.000000\n",
      "(2011-04-15 00:00:00,1.0) --> prob=[0.509370494954,0.490629505046], prediction=0.000000\n",
      "(2011-04-26 00:00:00,1.0) --> prob=[0.509370494954,0.490629505046], prediction=0.000000\n",
      "(2011-04-27 00:00:00,1.0) --> prob=[0.509370494954,0.490629505046], prediction=0.000000\n",
      "(2011-04-28 00:00:00,1.0) --> prob=[0.509370494954,0.490629505046], prediction=0.000000\n",
      "(2011-05-04 00:00:00,0.0) --> prob=[0.509370494954,0.490629505046], prediction=0.000000\n",
      "(2011-05-10 00:00:00,0.0) --> prob=[0.509370494954,0.490629505046], prediction=0.000000\n",
      "(2011-05-18 00:00:00,0.0) --> prob=[0.509370494954,0.490629505046], prediction=0.000000\n",
      "(2011-05-19 00:00:00,0.0) --> prob=[0.509370494954,0.490629505046], prediction=0.000000\n",
      "(2011-05-25 00:00:00,1.0) --> prob=[0.509370494954,0.490629505046], prediction=0.000000\n",
      "(2011-05-27 00:00:00,1.0) --> prob=[0.509370494954,0.490629505046], prediction=0.000000\n",
      "(2011-05-31 00:00:00,0.0) --> prob=[0.509370494954,0.490629505046], prediction=0.000000\n",
      "(2011-06-03 00:00:00,1.0) --> prob=[0.509370494954,0.490629505046], prediction=0.000000\n",
      "(2011-06-06 00:00:00,1.0) --> prob=[0.509370494954,0.490629505046], prediction=0.000000\n",
      "(2011-06-08 00:00:00,0.0) --> prob=[0.509370494954,0.490629505046], prediction=0.000000\n",
      "(2011-06-10 00:00:00,1.0) --> prob=[0.509370494954,0.490629505046], prediction=0.000000\n",
      "(2011-06-21 00:00:00,1.0) --> prob=[0.509370494954,0.490629505046], prediction=0.000000\n",
      "(2011-07-01 00:00:00,1.0) --> prob=[0.509370494954,0.490629505046], prediction=0.000000\n",
      "(2011-07-04 00:00:00,1.0) --> prob=[0.509370494954,0.490629505046], prediction=0.000000\n",
      "(2011-07-20 00:00:00,0.0) --> prob=[0.509370494954,0.490629505046], prediction=0.000000\n",
      "(2011-07-25 00:00:00,1.0) --> prob=[0.509370494954,0.490629505046], prediction=0.000000\n",
      "(2011-07-26 00:00:00,1.0) --> prob=[0.509370494954,0.490629505046], prediction=0.000000\n",
      "(2011-07-29 00:00:00,0.0) --> prob=[0.509370494954,0.490629505046], prediction=0.000000\n",
      "(2011-08-11 00:00:00,1.0) --> prob=[0.509370494954,0.490629505046], prediction=0.000000\n",
      "(2011-08-12 00:00:00,1.0) --> prob=[0.509370494954,0.490629505046], prediction=0.000000\n",
      "(2011-08-24 00:00:00,0.0) --> prob=[0.509370494954,0.490629505046], prediction=0.000000\n",
      "(2011-08-29 00:00:00,0.0) --> prob=[0.509370494954,0.490629505046], prediction=0.000000\n",
      "(2011-08-30 00:00:00,0.0) --> prob=[0.509370494954,0.490629505046], prediction=0.000000\n",
      "(2011-09-07 00:00:00,0.0) --> prob=[0.509370494954,0.490629505046], prediction=0.000000\n",
      "(2011-09-14 00:00:00,0.0) --> prob=[0.509370494954,0.490629505046], prediction=0.000000\n",
      "(2011-09-16 00:00:00,1.0) --> prob=[0.509370494954,0.490629505046], prediction=0.000000\n",
      "(2011-10-05 00:00:00,1.0) --> prob=[0.509370494954,0.490629505046], prediction=0.000000\n",
      "(2011-10-10 00:00:00,0.0) --> prob=[0.509370494954,0.490629505046], prediction=0.000000\n",
      "(2011-10-14 00:00:00,0.0) --> prob=[0.509370494954,0.490629505046], prediction=0.000000\n",
      "(2011-10-21 00:00:00,1.0) --> prob=[0.509370494954,0.490629505046], prediction=0.000000\n",
      "(2011-10-28 00:00:00,0.0) --> prob=[0.509370494954,0.490629505046], prediction=0.000000\n",
      "(2011-11-01 00:00:00,0.0) --> prob=[0.509370494954,0.490629505046], prediction=0.000000\n",
      "(2011-11-08 00:00:00,0.0) --> prob=[0.509370494954,0.490629505046], prediction=0.000000\n",
      "(2011-11-15 00:00:00,1.0) --> prob=[0.509370494954,0.490629505046], prediction=0.000000\n",
      "(2011-11-25 00:00:00,1.0) --> prob=[0.509370494954,0.490629505046], prediction=0.000000\n",
      "(2011-11-28 00:00:00,0.0) --> prob=[0.509370494954,0.490629505046], prediction=0.000000\n",
      "(2011-12-13 00:00:00,0.0) --> prob=[0.509370494954,0.490629505046], prediction=0.000000\n",
      "(2011-12-19 00:00:00,0.0) --> prob=[0.509370494954,0.490629505046], prediction=0.000000\n",
      "(2011-12-20 00:00:00,0.0) --> prob=[0.509370494954,0.490629505046], prediction=0.000000\n",
      "(2011-12-23 00:00:00,0.0) --> prob=[0.509370494954,0.490629505046], prediction=0.000000\n",
      "(2012-01-04 00:00:00,1.0) --> prob=[0.509370494954,0.490629505046], prediction=0.000000\n",
      "(2012-01-06 00:00:00,0.0) --> prob=[0.509370494954,0.490629505046], prediction=0.000000\n",
      "(2012-01-09 00:00:00,1.0) --> prob=[0.509370494954,0.490629505046], prediction=0.000000\n",
      "(2012-01-13 00:00:00,1.0) --> prob=[0.509370494954,0.490629505046], prediction=0.000000\n",
      "(2012-01-25 00:00:00,0.0) --> prob=[0.509370494954,0.490629505046], prediction=0.000000\n",
      "(2012-01-30 00:00:00,1.0) --> prob=[0.509370494954,0.490629505046], prediction=0.000000\n",
      "(2012-01-31 00:00:00,1.0) --> prob=[0.509370494954,0.490629505046], prediction=0.000000\n",
      "(2012-02-01 00:00:00,0.0) --> prob=[0.509370494954,0.490629505046], prediction=0.000000\n",
      "(2012-02-03 00:00:00,0.0) --> prob=[0.509370494954,0.490629505046], prediction=0.000000\n",
      "(2012-02-06 00:00:00,1.0) --> prob=[0.509370494954,0.490629505046], prediction=0.000000\n",
      "(2012-02-14 00:00:00,0.0) --> prob=[0.509370494954,0.490629505046], prediction=0.000000\n",
      "(2012-02-24 00:00:00,1.0) --> prob=[0.509370494954,0.490629505046], prediction=0.000000\n",
      "(2012-03-13 00:00:00,0.0) --> prob=[0.509370494954,0.490629505046], prediction=0.000000\n",
      "(2012-03-15 00:00:00,0.0) --> prob=[0.509370494954,0.490629505046], prediction=0.000000\n",
      "(2012-03-20 00:00:00,0.0) --> prob=[0.509370494954,0.490629505046], prediction=0.000000\n",
      "(2012-04-09 00:00:00,0.0) --> prob=[0.509370494954,0.490629505046], prediction=0.000000\n",
      "(2012-04-10 00:00:00,0.0) --> prob=[0.509370494954,0.490629505046], prediction=0.000000\n",
      "(2012-04-12 00:00:00,0.0) --> prob=[0.509370494954,0.490629505046], prediction=0.000000\n",
      "(2012-04-17 00:00:00,0.0) --> prob=[0.509370494954,0.490629505046], prediction=0.000000\n",
      "(2012-04-24 00:00:00,0.0) --> prob=[0.509370494954,0.490629505046], prediction=0.000000\n",
      "(2012-04-26 00:00:00,1.0) --> prob=[0.509370494954,0.490629505046], prediction=0.000000\n",
      "(2012-05-02 00:00:00,0.0) --> prob=[0.509370494954,0.490629505046], prediction=0.000000\n",
      "(2012-05-07 00:00:00,1.0) --> prob=[0.509370494954,0.490629505046], prediction=0.000000\n",
      "(2012-05-11 00:00:00,1.0) --> prob=[0.509370494954,0.490629505046], prediction=0.000000\n",
      "(2012-05-17 00:00:00,0.0) --> prob=[0.509370494954,0.490629505046], prediction=0.000000\n",
      "(2012-05-28 00:00:00,1.0) --> prob=[0.509370494954,0.490629505046], prediction=0.000000\n",
      "(2012-05-30 00:00:00,0.0) --> prob=[0.509370494954,0.490629505046], prediction=0.000000\n",
      "(2012-06-06 00:00:00,0.0) --> prob=[0.509370494954,0.490629505046], prediction=0.000000\n",
      "(2012-06-12 00:00:00,1.0) --> prob=[0.509370494954,0.490629505046], prediction=0.000000\n",
      "(2012-06-13 00:00:00,0.0) --> prob=[0.509370494954,0.490629505046], prediction=0.000000\n",
      "(2012-06-15 00:00:00,0.0) --> prob=[0.509370494954,0.490629505046], prediction=0.000000\n",
      "(2012-07-03 00:00:00,1.0) --> prob=[0.509370494954,0.490629505046], prediction=0.000000\n",
      "(2012-07-05 00:00:00,0.0) --> prob=[0.509370494954,0.490629505046], prediction=0.000000\n",
      "(2012-07-06 00:00:00,0.0) --> prob=[0.509370494954,0.490629505046], prediction=0.000000\n",
      "(2012-07-10 00:00:00,0.0) --> prob=[0.509370494954,0.490629505046], prediction=0.000000\n",
      "(2012-07-19 00:00:00,0.0) --> prob=[0.509370494954,0.490629505046], prediction=0.000000\n",
      "(2012-07-30 00:00:00,0.0) --> prob=[0.509370494954,0.490629505046], prediction=0.000000\n",
      "(2012-07-31 00:00:00,0.0) --> prob=[0.509370494954,0.490629505046], prediction=0.000000\n",
      "(2012-08-02 00:00:00,1.0) --> prob=[0.509370494954,0.490629505046], prediction=0.000000\n",
      "(2012-08-03 00:00:00,1.0) --> prob=[0.509370494954,0.490629505046], prediction=0.000000\n",
      "(2012-08-08 00:00:00,0.0) --> prob=[0.509370494954,0.490629505046], prediction=0.000000\n",
      "(2012-08-31 00:00:00,1.0) --> prob=[0.509370494954,0.490629505046], prediction=0.000000\n",
      "(2012-09-17 00:00:00,1.0) --> prob=[0.509370494954,0.490629505046], prediction=0.000000\n",
      "(2012-10-04 00:00:00,0.0) --> prob=[0.509370494954,0.490629505046], prediction=0.000000\n",
      "(2012-10-08 00:00:00,1.0) --> prob=[0.509370494954,0.490629505046], prediction=0.000000\n",
      "(2012-10-22 00:00:00,0.0) --> prob=[0.509370494954,0.490629505046], prediction=0.000000\n",
      "(2012-11-02 00:00:00,1.0) --> prob=[0.509370494954,0.490629505046], prediction=0.000000\n",
      "(2012-11-09 00:00:00,1.0) --> prob=[0.509370494954,0.490629505046], prediction=0.000000\n",
      "(2012-11-13 00:00:00,1.0) --> prob=[0.509370494954,0.490629505046], prediction=0.000000\n",
      "(2012-12-03 00:00:00,1.0) --> prob=[0.509370494954,0.490629505046], prediction=0.000000\n",
      "(2012-12-07 00:00:00,1.0) --> prob=[0.509370494954,0.490629505046], prediction=0.000000\n",
      "(2012-12-12 00:00:00,1.0) --> prob=[0.509370494954,0.490629505046], prediction=0.000000\n",
      "(2013-01-15 00:00:00,1.0) --> prob=[0.509370494954,0.490629505046], prediction=0.000000\n",
      "(2013-01-25 00:00:00,0.0) --> prob=[0.509370494954,0.490629505046], prediction=0.000000\n",
      "(2013-01-30 00:00:00,0.0) --> prob=[0.509370494954,0.490629505046], prediction=0.000000\n",
      "(2013-01-31 00:00:00,1.0) --> prob=[0.509370494954,0.490629505046], prediction=0.000000\n",
      "(2013-02-12 00:00:00,1.0) --> prob=[0.509370494954,0.490629505046], prediction=0.000000\n",
      "(2013-02-25 00:00:00,1.0) --> prob=[0.509370494954,0.490629505046], prediction=0.000000\n",
      "(2013-03-07 00:00:00,1.0) --> prob=[0.509370494954,0.490629505046], prediction=0.000000\n",
      "(2013-03-11 00:00:00,0.0) --> prob=[0.509370494954,0.490629505046], prediction=0.000000\n",
      "(2013-04-01 00:00:00,0.0) --> prob=[0.509370494954,0.490629505046], prediction=0.000000\n",
      "(2013-04-10 00:00:00,1.0) --> prob=[0.509370494954,0.490629505046], prediction=0.000000\n",
      "(2013-04-17 00:00:00,1.0) --> prob=[0.509370494954,0.490629505046], prediction=0.000000\n",
      "(2013-04-23 00:00:00,1.0) --> prob=[0.509370494954,0.490629505046], prediction=0.000000\n",
      "(2013-04-30 00:00:00,0.0) --> prob=[0.509370494954,0.490629505046], prediction=0.000000\n",
      "(2013-05-14 00:00:00,0.0) --> prob=[0.509370494954,0.490629505046], prediction=0.000000\n",
      "(2013-05-20 00:00:00,0.0) --> prob=[0.509370494954,0.490629505046], prediction=0.000000\n",
      "(2013-05-24 00:00:00,0.0) --> prob=[0.509370494954,0.490629505046], prediction=0.000000\n",
      "(2013-05-27 00:00:00,0.0) --> prob=[0.509370494954,0.490629505046], prediction=0.000000\n",
      "(2013-05-28 00:00:00,1.0) --> prob=[0.509370494954,0.490629505046], prediction=0.000000\n",
      "(2013-06-03 00:00:00,1.0) --> prob=[0.509370494954,0.490629505046], prediction=0.000000\n",
      "(2013-06-17 00:00:00,0.0) --> prob=[0.509370494954,0.490629505046], prediction=0.000000\n",
      "(2013-06-24 00:00:00,1.0) --> prob=[0.509370494954,0.490629505046], prediction=0.000000\n",
      "(2013-07-05 00:00:00,0.0) --> prob=[0.509370494954,0.490629505046], prediction=0.000000\n",
      "(2013-07-12 00:00:00,0.0) --> prob=[0.509370494954,0.490629505046], prediction=0.000000\n",
      "(2013-07-19 00:00:00,1.0) --> prob=[0.509370494954,0.490629505046], prediction=0.000000\n",
      "(2013-08-01 00:00:00,0.0) --> prob=[0.509370494954,0.490629505046], prediction=0.000000\n",
      "(2013-08-02 00:00:00,1.0) --> prob=[0.509370494954,0.490629505046], prediction=0.000000\n",
      "(2013-08-08 00:00:00,1.0) --> prob=[0.509370494954,0.490629505046], prediction=0.000000\n",
      "(2013-08-12 00:00:00,0.0) --> prob=[0.509370494954,0.490629505046], prediction=0.000000\n",
      "(2013-09-05 00:00:00,0.0) --> prob=[0.509370494954,0.490629505046], prediction=0.000000\n",
      "(2013-09-11 00:00:00,1.0) --> prob=[0.509370494954,0.490629505046], prediction=0.000000\n",
      "(2013-09-27 00:00:00,1.0) --> prob=[0.509370494954,0.490629505046], prediction=0.000000\n",
      "(2013-10-04 00:00:00,1.0) --> prob=[0.509370494954,0.490629505046], prediction=0.000000\n",
      "(2013-10-22 00:00:00,1.0) --> prob=[0.509370494954,0.490629505046], prediction=0.000000\n",
      "(2013-10-28 00:00:00,1.0) --> prob=[0.509370494954,0.490629505046], prediction=0.000000\n",
      "(2013-10-30 00:00:00,0.0) --> prob=[0.509370494954,0.490629505046], prediction=0.000000\n",
      "(2013-10-31 00:00:00,1.0) --> prob=[0.509370494954,0.490629505046], prediction=0.000000\n",
      "(2013-11-19 00:00:00,1.0) --> prob=[0.509370494954,0.490629505046], prediction=0.000000\n",
      "(2013-11-20 00:00:00,1.0) --> prob=[0.509370494954,0.490629505046], prediction=0.000000\n",
      "(2013-11-21 00:00:00,1.0) --> prob=[0.509370494954,0.490629505046], prediction=0.000000\n",
      "(2013-11-28 00:00:00,0.0) --> prob=[0.509370494954,0.490629505046], prediction=0.000000\n",
      "(2013-11-29 00:00:00,0.0) --> prob=[0.509370494954,0.490629505046], prediction=0.000000\n",
      "(2013-12-17 00:00:00,1.0) --> prob=[0.509370494954,0.490629505046], prediction=0.000000\n",
      "(2013-12-18 00:00:00,0.0) --> prob=[0.509370494954,0.490629505046], prediction=0.000000\n",
      "(2013-12-30 00:00:00,0.0) --> prob=[0.509370494954,0.490629505046], prediction=0.000000\n",
      "(2014-01-01 00:00:00,0.0) --> prob=[0.509370494954,0.490629505046], prediction=0.000000\n",
      "(2014-01-03 00:00:00,0.0) --> prob=[0.509370494954,0.490629505046], prediction=0.000000\n",
      "(2014-01-08 00:00:00,0.0) --> prob=[0.509370494954,0.490629505046], prediction=0.000000\n",
      "(2014-01-10 00:00:00,1.0) --> prob=[0.509370494954,0.490629505046], prediction=0.000000\n",
      "(2014-01-16 00:00:00,0.0) --> prob=[0.509370494954,0.490629505046], prediction=0.000000\n",
      "(2014-01-21 00:00:00,0.0) --> prob=[0.509370494954,0.490629505046], prediction=0.000000\n",
      "(2014-01-24 00:00:00,1.0) --> prob=[0.509370494954,0.490629505046], prediction=0.000000\n",
      "(2014-01-27 00:00:00,0.0) --> prob=[0.509370494954,0.490629505046], prediction=0.000000\n",
      "(2014-02-07 00:00:00,1.0) --> prob=[0.509370494954,0.490629505046], prediction=0.000000\n",
      "(2014-02-24 00:00:00,1.0) --> prob=[0.509370494954,0.490629505046], prediction=0.000000\n",
      "(2014-02-25 00:00:00,1.0) --> prob=[0.509370494954,0.490629505046], prediction=0.000000\n",
      "(2014-03-31 00:00:00,0.0) --> prob=[0.509370494954,0.490629505046], prediction=0.000000\n",
      "(2014-04-09 00:00:00,0.0) --> prob=[0.509370494954,0.490629505046], prediction=0.000000\n",
      "(2014-04-16 00:00:00,1.0) --> prob=[0.509370494954,0.490629505046], prediction=0.000000\n",
      "(2014-04-22 00:00:00,1.0) --> prob=[0.509370494954,0.490629505046], prediction=0.000000\n",
      "(2014-04-25 00:00:00,1.0) --> prob=[0.509370494954,0.490629505046], prediction=0.000000\n",
      "(2014-05-12 00:00:00,0.0) --> prob=[0.509370494954,0.490629505046], prediction=0.000000\n",
      "(2014-05-14 00:00:00,1.0) --> prob=[0.509370494954,0.490629505046], prediction=0.000000\n",
      "(2014-05-15 00:00:00,0.0) --> prob=[0.509370494954,0.490629505046], prediction=0.000000\n",
      "(2014-05-26 00:00:00,1.0) --> prob=[0.509370494954,0.490629505046], prediction=0.000000\n",
      "(2014-06-13 00:00:00,0.0) --> prob=[0.509370494954,0.490629505046], prediction=0.000000\n",
      "(2014-06-17 00:00:00,1.0) --> prob=[0.509370494954,0.490629505046], prediction=0.000000\n",
      "(2014-06-23 00:00:00,1.0) --> prob=[0.509370494954,0.490629505046], prediction=0.000000\n",
      "(2014-06-24 00:00:00,1.0) --> prob=[0.509370494954,0.490629505046], prediction=0.000000\n",
      "(2014-06-26 00:00:00,1.0) --> prob=[0.509370494954,0.490629505046], prediction=0.000000\n",
      "(2014-07-07 00:00:00,0.0) --> prob=[0.509370494954,0.490629505046], prediction=0.000000\n",
      "(2014-07-21 00:00:00,0.0) --> prob=[0.509370494954,0.490629505046], prediction=0.000000\n",
      "(2014-07-23 00:00:00,0.0) --> prob=[0.509370494954,0.490629505046], prediction=0.000000\n",
      "(2014-08-05 00:00:00,0.0) --> prob=[0.509370494954,0.490629505046], prediction=0.000000\n",
      "(2014-08-07 00:00:00,1.0) --> prob=[0.509370494954,0.490629505046], prediction=0.000000\n",
      "(2014-08-20 00:00:00,1.0) --> prob=[0.509370494954,0.490629505046], prediction=0.000000\n",
      "(2014-08-21 00:00:00,1.0) --> prob=[0.509370494954,0.490629505046], prediction=0.000000\n",
      "(2014-09-05 00:00:00,1.0) --> prob=[0.509370494954,0.490629505046], prediction=0.000000\n",
      "(2014-09-08 00:00:00,0.0) --> prob=[0.509370494954,0.490629505046], prediction=0.000000\n",
      "(2014-09-16 00:00:00,0.0) --> prob=[0.509370494954,0.490629505046], prediction=0.000000\n",
      "(2014-09-17 00:00:00,1.0) --> prob=[0.509370494954,0.490629505046], prediction=0.000000\n",
      "(2014-09-18 00:00:00,1.0) --> prob=[0.509370494954,0.490629505046], prediction=0.000000\n",
      "(2014-09-23 00:00:00,0.0) --> prob=[0.509370494954,0.490629505046], prediction=0.000000\n",
      "(2014-10-01 00:00:00,1.0) --> prob=[0.509370494954,0.490629505046], prediction=0.000000\n",
      "(2014-11-14 00:00:00,1.0) --> prob=[0.509370494954,0.490629505046], prediction=0.000000\n",
      "(2014-11-24 00:00:00,1.0) --> prob=[0.509370494954,0.490629505046], prediction=0.000000\n",
      "(2014-12-04 00:00:00,0.0) --> prob=[0.509370494954,0.490629505046], prediction=0.000000\n",
      "(2014-12-05 00:00:00,1.0) --> prob=[0.509370494954,0.490629505046], prediction=0.000000\n",
      "(2014-12-29 00:00:00,0.0) --> prob=[0.509370494954,0.490629505046], prediction=0.000000\n",
      "(2014-12-30 00:00:00,0.0) --> prob=[0.509370494954,0.490629505046], prediction=0.000000\n",
      "(2015-01-16 00:00:00,0.0) --> prob=[0.509370494954,0.490629505046], prediction=0.000000\n",
      "(2015-01-21 00:00:00,0.0) --> prob=[0.509370494954,0.490629505046], prediction=0.000000\n",
      "(2015-01-27 00:00:00,1.0) --> prob=[0.509370494954,0.490629505046], prediction=0.000000\n",
      "(2015-02-05 00:00:00,0.0) --> prob=[0.509370494954,0.490629505046], prediction=0.000000\n",
      "(2015-02-06 00:00:00,1.0) --> prob=[0.509370494954,0.490629505046], prediction=0.000000\n",
      "(2015-02-10 00:00:00,1.0) --> prob=[0.509370494954,0.490629505046], prediction=0.000000\n",
      "(2015-02-12 00:00:00,1.0) --> prob=[0.509370494954,0.490629505046], prediction=0.000000\n",
      "(2015-02-18 00:00:00,0.0) --> prob=[0.509370494954,0.490629505046], prediction=0.000000\n",
      "(2015-02-25 00:00:00,1.0) --> prob=[0.509370494954,0.490629505046], prediction=0.000000\n",
      "(2015-03-03 00:00:00,1.0) --> prob=[0.509370494954,0.490629505046], prediction=0.000000\n",
      "(2015-03-11 00:00:00,0.0) --> prob=[0.509370494954,0.490629505046], prediction=0.000000\n",
      "(2015-03-19 00:00:00,0.0) --> prob=[0.509370494954,0.490629505046], prediction=0.000000\n",
      "(2015-03-23 00:00:00,0.0) --> prob=[0.509370494954,0.490629505046], prediction=0.000000\n",
      "(2015-03-27 00:00:00,1.0) --> prob=[0.509370494954,0.490629505046], prediction=0.000000\n",
      "(2015-03-31 00:00:00,0.0) --> prob=[0.509370494954,0.490629505046], prediction=0.000000\n",
      "(2015-04-08 00:00:00,1.0) --> prob=[0.509370494954,0.490629505046], prediction=0.000000\n",
      "(2015-04-09 00:00:00,0.0) --> prob=[0.509370494954,0.490629505046], prediction=0.000000\n",
      "(2015-04-23 00:00:00,1.0) --> prob=[0.509370494954,0.490629505046], prediction=0.000000\n",
      "(2015-05-07 00:00:00,0.0) --> prob=[0.509370494954,0.490629505046], prediction=0.000000\n",
      "(2015-05-13 00:00:00,1.0) --> prob=[0.509370494954,0.490629505046], prediction=0.000000\n",
      "(2015-05-14 00:00:00,0.0) --> prob=[0.509370494954,0.490629505046], prediction=0.000000\n",
      "(2015-05-21 00:00:00,0.0) --> prob=[0.509370494954,0.490629505046], prediction=0.000000\n",
      "(2015-05-28 00:00:00,1.0) --> prob=[0.509370494954,0.490629505046], prediction=0.000000\n",
      "(2015-06-04 00:00:00,1.0) --> prob=[0.509370494954,0.490629505046], prediction=0.000000\n",
      "(2015-07-01 00:00:00,0.0) --> prob=[0.509370494954,0.490629505046], prediction=0.000000\n",
      "(2015-07-03 00:00:00,0.0) --> prob=[0.509370494954,0.490629505046], prediction=0.000000\n",
      "(2015-07-06 00:00:00,0.0) --> prob=[0.509370494954,0.490629505046], prediction=0.000000\n",
      "(2015-07-07 00:00:00,1.0) --> prob=[0.509370494954,0.490629505046], prediction=0.000000\n",
      "(2015-07-16 00:00:00,0.0) --> prob=[0.509370494954,0.490629505046], prediction=0.000000\n",
      "(2015-07-27 00:00:00,1.0) --> prob=[0.509370494954,0.490629505046], prediction=0.000000\n",
      "(2015-08-03 00:00:00,1.0) --> prob=[0.509370494954,0.490629505046], prediction=0.000000\n",
      "(2015-08-13 00:00:00,0.0) --> prob=[0.509370494954,0.490629505046], prediction=0.000000\n",
      "(2015-08-14 00:00:00,0.0) --> prob=[0.509370494954,0.490629505046], prediction=0.000000\n",
      "(2015-08-21 00:00:00,0.0) --> prob=[0.509370494954,0.490629505046], prediction=0.000000\n",
      "(2015-08-25 00:00:00,0.0) --> prob=[0.509370494954,0.490629505046], prediction=0.000000\n",
      "(2015-08-31 00:00:00,0.0) --> prob=[0.509370494954,0.490629505046], prediction=0.000000\n",
      "(2015-09-14 00:00:00,1.0) --> prob=[0.509370494954,0.490629505046], prediction=0.000000\n",
      "(2015-09-16 00:00:00,0.0) --> prob=[0.509370494954,0.490629505046], prediction=0.000000\n",
      "(2015-09-30 00:00:00,0.0) --> prob=[0.509370494954,0.490629505046], prediction=0.000000\n",
      "(2015-10-05 00:00:00,1.0) --> prob=[0.509370494954,0.490629505046], prediction=0.000000\n",
      "(2015-11-05 00:00:00,0.0) --> prob=[0.509370494954,0.490629505046], prediction=0.000000\n",
      "(2015-11-06 00:00:00,1.0) --> prob=[0.509370494954,0.490629505046], prediction=0.000000\n",
      "(2015-11-09 00:00:00,0.0) --> prob=[0.509370494954,0.490629505046], prediction=0.000000\n",
      "(2015-11-18 00:00:00,1.0) --> prob=[0.509370494954,0.490629505046], prediction=0.000000\n",
      "(2015-11-24 00:00:00,0.0) --> prob=[0.509370494954,0.490629505046], prediction=0.000000\n",
      "(2015-12-09 00:00:00,1.0) --> prob=[0.509370494954,0.490629505046], prediction=0.000000\n",
      "(2015-12-14 00:00:00,0.0) --> prob=[0.509370494954,0.490629505046], prediction=0.000000\n",
      "(2015-12-16 00:00:00,1.0) --> prob=[0.509370494954,0.490629505046], prediction=0.000000\n",
      "(2015-12-18 00:00:00,1.0) --> prob=[0.509370494954,0.490629505046], prediction=0.000000\n",
      "(2015-12-22 00:00:00,1.0) --> prob=[0.509370494954,0.490629505046], prediction=0.000000\n",
      "(2015-12-23 00:00:00,0.0) --> prob=[0.509370494954,0.490629505046], prediction=0.000000\n",
      "(2015-12-31 00:00:00,0.0) --> prob=[0.509370494954,0.490629505046], prediction=0.000000\n",
      "(2016-01-04 00:00:00,0.0) --> prob=[0.509370494954,0.490629505046], prediction=0.000000\n",
      "(2016-01-22 00:00:00,1.0) --> prob=[0.509370494954,0.490629505046], prediction=0.000000\n",
      "(2016-01-25 00:00:00,0.0) --> prob=[0.509370494954,0.490629505046], prediction=0.000000\n",
      "(2016-02-11 00:00:00,1.0) --> prob=[0.509370494954,0.490629505046], prediction=0.000000\n",
      "(2016-02-16 00:00:00,1.0) --> prob=[0.509370494954,0.490629505046], prediction=0.000000\n",
      "(2016-02-18 00:00:00,0.0) --> prob=[0.509370494954,0.490629505046], prediction=0.000000\n",
      "(2016-02-29 00:00:00,1.0) --> prob=[0.509370494954,0.490629505046], prediction=0.000000\n",
      "(2016-03-08 00:00:00,1.0) --> prob=[0.509370494954,0.490629505046], prediction=0.000000\n",
      "(2016-03-14 00:00:00,0.0) --> prob=[0.509370494954,0.490629505046], prediction=0.000000\n",
      "(2016-03-15 00:00:00,1.0) --> prob=[0.509370494954,0.490629505046], prediction=0.000000\n",
      "(2016-03-16 00:00:00,0.0) --> prob=[0.509370494954,0.490629505046], prediction=0.000000\n",
      "(2016-03-18 00:00:00,1.0) --> prob=[0.509370494954,0.490629505046], prediction=0.000000\n",
      "(2016-03-21 00:00:00,0.0) --> prob=[0.509370494954,0.490629505046], prediction=0.000000\n",
      "(2016-03-30 00:00:00,0.0) --> prob=[0.509370494954,0.490629505046], prediction=0.000000\n",
      "(2016-04-04 00:00:00,0.0) --> prob=[0.509370494954,0.490629505046], prediction=0.000000\n",
      "(2016-04-06 00:00:00,0.0) --> prob=[0.509370494954,0.490629505046], prediction=0.000000\n",
      "(2016-04-07 00:00:00,1.0) --> prob=[0.509370494954,0.490629505046], prediction=0.000000\n",
      "(2016-04-21 00:00:00,1.0) --> prob=[0.509370494954,0.490629505046], prediction=0.000000\n",
      "(2016-05-12 00:00:00,1.0) --> prob=[0.509370494954,0.490629505046], prediction=0.000000\n",
      "(2016-05-13 00:00:00,1.0) --> prob=[0.509370494954,0.490629505046], prediction=0.000000\n",
      "(2016-05-19 00:00:00,1.0) --> prob=[0.509370494954,0.490629505046], prediction=0.000000\n",
      "(2016-05-24 00:00:00,0.0) --> prob=[0.509370494954,0.490629505046], prediction=0.000000\n",
      "(2016-05-26 00:00:00,0.0) --> prob=[0.509370494954,0.490629505046], prediction=0.000000\n",
      "(2016-06-07 00:00:00,0.0) --> prob=[0.509370494954,0.490629505046], prediction=0.000000\n",
      "(2016-06-20 00:00:00,1.0) --> prob=[0.509370494954,0.490629505046], prediction=0.000000\n",
      "(2016-06-28 00:00:00,0.0) --> prob=[0.509370494954,0.490629505046], prediction=0.000000\n",
      "(2016-07-04 00:00:00,1.0) --> prob=[0.509370494954,0.490629505046], prediction=0.000000\n",
      "(2016-07-05 00:00:00,1.0) --> prob=[0.509370494954,0.490629505046], prediction=0.000000\n",
      "(2016-07-18 00:00:00,1.0) --> prob=[0.509370494954,0.490629505046], prediction=0.000000\n",
      "(2016-07-21 00:00:00,0.0) --> prob=[0.509370494954,0.490629505046], prediction=0.000000\n",
      "(2016-08-04 00:00:00,0.0) --> prob=[0.509370494954,0.490629505046], prediction=0.000000\n",
      "(2016-08-10 00:00:00,1.0) --> prob=[0.509370494954,0.490629505046], prediction=0.000000\n",
      "(2016-08-22 00:00:00,0.0) --> prob=[0.509370494954,0.490629505046], prediction=0.000000\n",
      "(2016-08-24 00:00:00,1.0) --> prob=[0.509370494954,0.490629505046], prediction=0.000000\n",
      "(2016-08-29 00:00:00,0.0) --> prob=[0.509370494954,0.490629505046], prediction=0.000000\n",
      "(2016-09-01 00:00:00,0.0) --> prob=[0.509370494954,0.490629505046], prediction=0.000000\n",
      "(2016-09-08 00:00:00,0.0) --> prob=[0.509370494954,0.490629505046], prediction=0.000000\n",
      "(2016-09-15 00:00:00,0.0) --> prob=[0.509370494954,0.490629505046], prediction=0.000000\n",
      "(2016-10-18 00:00:00,0.0) --> prob=[0.509370494954,0.490629505046], prediction=0.000000\n",
      "(2016-10-19 00:00:00,1.0) --> prob=[0.509370494954,0.490629505046], prediction=0.000000\n",
      "(2016-10-21 00:00:00,0.0) --> prob=[0.509370494954,0.490629505046], prediction=0.000000\n",
      "(2016-10-24 00:00:00,1.0) --> prob=[0.509370494954,0.490629505046], prediction=0.000000\n",
      "(2016-10-30 00:00:00,0.0) --> prob=[0.509370494954,0.490629505046], prediction=0.000000\n",
      "(2016-11-18 00:00:00,1.0) --> prob=[0.509370494954,0.490629505046], prediction=0.000000\n",
      "(2016-11-21 00:00:00,1.0) --> prob=[0.509370494954,0.490629505046], prediction=0.000000\n",
      "(2016-11-25 00:00:00,0.0) --> prob=[0.509370494954,0.490629505046], prediction=0.000000\n",
      "(2016-12-05 00:00:00,0.0) --> prob=[0.509370494954,0.490629505046], prediction=0.000000\n",
      "(2016-12-14 00:00:00,1.0) --> prob=[0.509370494954,0.490629505046], prediction=0.000000\n",
      "(2016-12-19 00:00:00,1.0) --> prob=[0.509370494954,0.490629505046], prediction=0.000000\n",
      "(2016-12-22 00:00:00,1.0) --> prob=[0.509370494954,0.490629505046], prediction=0.000000\n",
      "(2016-12-30 00:00:00,0.0) --> prob=[0.509370494954,0.490629505046], prediction=0.000000\n",
      "(2017-01-06 00:00:00,0.0) --> prob=[0.509370494954,0.490629505046], prediction=0.000000\n",
      "(2017-01-12 00:00:00,1.0) --> prob=[0.509370494954,0.490629505046], prediction=0.000000\n",
      "(2017-01-17 00:00:00,0.0) --> prob=[0.509370494954,0.490629505046], prediction=0.000000\n",
      "(2017-01-20 00:00:00,0.0) --> prob=[0.509370494954,0.490629505046], prediction=0.000000\n",
      "(2017-01-30 00:00:00,1.0) --> prob=[0.509370494954,0.490629505046], prediction=0.000000\n",
      "(2017-02-17 00:00:00,1.0) --> prob=[0.509370494954,0.490629505046], prediction=0.000000\n",
      "(2017-02-22 00:00:00,0.0) --> prob=[0.509370494954,0.490629505046], prediction=0.000000\n",
      "(2017-02-28 00:00:00,1.0) --> prob=[0.509370494954,0.490629505046], prediction=0.000000\n",
      "(2017-03-02 00:00:00,0.0) --> prob=[0.509370494954,0.490629505046], prediction=0.000000\n",
      "(2017-03-06 00:00:00,1.0) --> prob=[0.509370494954,0.490629505046], prediction=0.000000\n",
      "(2017-03-09 00:00:00,1.0) --> prob=[0.509370494954,0.490629505046], prediction=0.000000\n",
      "(2017-04-25 00:00:00,0.0) --> prob=[0.509370494954,0.490629505046], prediction=0.000000\n",
      "(2017-05-04 00:00:00,0.0) --> prob=[0.509370494954,0.490629505046], prediction=0.000000\n",
      "(2017-05-08 00:00:00,0.0) --> prob=[0.509370494954,0.490629505046], prediction=0.000000\n",
      "(2017-05-23 00:00:00,0.0) --> prob=[0.509370494954,0.490629505046], prediction=0.000000\n",
      "(2017-06-01 00:00:00,0.0) --> prob=[0.509370494954,0.490629505046], prediction=0.000000\n",
      "(2017-06-05 00:00:00,0.0) --> prob=[0.509370494954,0.490629505046], prediction=0.000000\n",
      "(2017-06-19 00:00:00,0.0) --> prob=[0.509370494954,0.490629505046], prediction=0.000000\n",
      "(2017-06-22 00:00:00,1.0) --> prob=[0.509370494954,0.490629505046], prediction=0.000000\n",
      "(2017-07-03 00:00:00,0.0) --> prob=[0.509370494954,0.490629505046], prediction=0.000000\n",
      "(2017-07-07 00:00:00,0.0) --> prob=[0.509370494954,0.490629505046], prediction=0.000000\n",
      "(2017-07-11 00:00:00,0.0) --> prob=[0.509370494954,0.490629505046], prediction=0.000000\n",
      "(2017-07-17 00:00:00,0.0) --> prob=[0.509370494954,0.490629505046], prediction=0.000000\n",
      "(2017-07-19 00:00:00,1.0) --> prob=[0.509370494954,0.490629505046], prediction=0.000000\n",
      "(2017-07-21 00:00:00,0.0) --> prob=[0.509370494954,0.490629505046], prediction=0.000000\n",
      "(2017-07-26 00:00:00,0.0) --> prob=[0.509370494954,0.490629505046], prediction=0.000000\n",
      "(2017-08-01 00:00:00,0.0) --> prob=[0.509370494954,0.490629505046], prediction=0.000000\n",
      "(2017-08-04 00:00:00,0.0) --> prob=[0.509370494954,0.490629505046], prediction=0.000000\n",
      "(2017-08-07 00:00:00,1.0) --> prob=[0.509370494954,0.490629505046], prediction=0.000000\n",
      "(2017-08-10 00:00:00,1.0) --> prob=[0.509370494954,0.490629505046], prediction=0.000000\n",
      "(2017-08-24 00:00:00,1.0) --> prob=[0.509370494954,0.490629505046], prediction=0.000000\n",
      "(2017-08-31 00:00:00,0.0) --> prob=[0.509370494954,0.490629505046], prediction=0.000000\n",
      "(2017-09-26 00:00:00,1.0) --> prob=[0.509370494954,0.490629505046], prediction=0.000000\n",
      "(2017-09-29 00:00:00,1.0) --> prob=[0.509370494954,0.490629505046], prediction=0.000000\n",
      "(2017-10-30 00:00:00,1.0) --> prob=[0.509370494954,0.490629505046], prediction=0.000000\n",
      "(2017-11-01 00:00:00,0.0) --> prob=[0.509370494954,0.490629505046], prediction=0.000000\n",
      "(2017-11-17 00:00:00,0.0) --> prob=[0.509370494954,0.490629505046], prediction=0.000000\n",
      "(2017-11-29 00:00:00,0.0) --> prob=[0.509370494954,0.490629505046], prediction=0.000000\n",
      "(2017-12-04 00:00:00,0.0) --> prob=[0.509370494954,0.490629505046], prediction=0.000000\n",
      "(2017-12-05 00:00:00,1.0) --> prob=[0.509370494954,0.490629505046], prediction=0.000000\n",
      "(2017-12-13 00:00:00,0.0) --> prob=[0.509370494954,0.490629505046], prediction=0.000000\n",
      "(2017-12-26 00:00:00,1.0) --> prob=[0.509370494954,0.490629505046], prediction=0.000000\n"
     ]
    }
   ],
   "source": [
    "predictions = model.transform(testData)\n",
    "selected = predictions.select(\"Date\",\"label\",\"probability\", \"prediction\")\n",
    "for row in selected.collect():\n",
    "    Date,label,prob, prediction = row\n",
    "    print(\"(%s,%s) --> prob=%s, prediction=%f\" % (str(Date),label, str(prob), prediction))"
   ]
  },
  {
   "cell_type": "code",
   "execution_count": 73,
   "metadata": {
    "collapsed": true
   },
   "outputs": [],
   "source": [
    "from pyspark.ml.evaluation import BinaryClassificationEvaluator\n",
    "from pyspark.ml.evaluation import MulticlassClassificationEvaluator"
   ]
  },
  {
   "cell_type": "code",
   "execution_count": 74,
   "metadata": {
    "collapsed": true
   },
   "outputs": [],
   "source": [
    "evaluator=BinaryClassificationEvaluator().setLabelCol(\"label\").setRawPredictionCol(\"rawPrediction\").setMetricName(\"areaUnderROC\")"
   ]
  },
  {
   "cell_type": "code",
   "execution_count": 75,
   "metadata": {
    "collapsed": true
   },
   "outputs": [],
   "source": [
    "measure=evaluator.evaluate(predictions)"
   ]
  },
  {
   "cell_type": "code",
   "execution_count": 76,
   "metadata": {},
   "outputs": [
    {
     "name": "stdout",
     "output_type": "stream",
     "text": [
      "0.5\n"
     ]
    }
   ],
   "source": [
    "print(measure)"
   ]
  },
  {
   "cell_type": "code",
   "execution_count": 77,
   "metadata": {
    "collapsed": true
   },
   "outputs": [],
   "source": [
    "from pyspark.ml.tuning import ParamGridBuilder, CrossValidator"
   ]
  },
  {
   "cell_type": "code",
   "execution_count": 78,
   "metadata": {
    "collapsed": true
   },
   "outputs": [],
   "source": [
    "paramGrid = (ParamGridBuilder()\n",
    "             .addGrid(lr.regParam, [0.01, 0.5, 2.0])\n",
    "             .addGrid(lr.elasticNetParam, [0.0, 0.5, 1.0])\n",
    "             .addGrid(lr.maxIter, [10, 15, 20])\n",
    "             .build())"
   ]
  },
  {
   "cell_type": "code",
   "execution_count": 79,
   "metadata": {
    "collapsed": true
   },
   "outputs": [],
   "source": [
    "cv = CrossValidator(estimator=pipeline, estimatorParamMaps=paramGrid, evaluator=evaluator, numFolds=5)"
   ]
  },
  {
   "cell_type": "code",
   "execution_count": 80,
   "metadata": {
    "collapsed": true
   },
   "outputs": [],
   "source": [
    "cvModel = cv.fit(trainingData) ## This will take some time"
   ]
  },
  {
   "cell_type": "code",
   "execution_count": 81,
   "metadata": {
    "collapsed": true
   },
   "outputs": [],
   "source": [
    "predictions2 = cvModel.transform(testData)"
   ]
  },
  {
   "cell_type": "code",
   "execution_count": 82,
   "metadata": {
    "collapsed": true
   },
   "outputs": [],
   "source": [
    "measure2=evaluator.evaluate(predictions2)"
   ]
  },
  {
   "cell_type": "code",
   "execution_count": 83,
   "metadata": {},
   "outputs": [
    {
     "name": "stdout",
     "output_type": "stream",
     "text": [
      "0.489859943978\n"
     ]
    }
   ],
   "source": [
    "print(measure2)"
   ]
  },
  {
   "cell_type": "code",
   "execution_count": 84,
   "metadata": {
    "collapsed": true
   },
   "outputs": [],
   "source": [
    "evaluator2=MulticlassClassificationEvaluator(metricName='accuracy')"
   ]
  },
  {
   "cell_type": "code",
   "execution_count": 85,
   "metadata": {},
   "outputs": [
    {
     "name": "stdout",
     "output_type": "stream",
     "text": [
      "0.51\n",
      "0.492\n"
     ]
    }
   ],
   "source": [
    "print(evaluator2.evaluate(predictions))\n",
    "print(evaluator2.evaluate(predictions2))"
   ]
  },
  {
   "cell_type": "markdown",
   "metadata": {},
   "source": [
    "### - RandomForest,  Multilayer perceptron classifier"
   ]
  },
  {
   "cell_type": "code",
   "execution_count": 86,
   "metadata": {
    "collapsed": true
   },
   "outputs": [],
   "source": [
    "from pyspark.ml.classification import RandomForestClassifier as RF"
   ]
  },
  {
   "cell_type": "code",
   "execution_count": 92,
   "metadata": {
    "collapsed": true
   },
   "outputs": [],
   "source": [
    "rf = RF(numTrees=200)"
   ]
  },
  {
   "cell_type": "code",
   "execution_count": 93,
   "metadata": {
    "collapsed": true
   },
   "outputs": [],
   "source": [
    "pipeline2 = Pipeline(stages=[assembler, labelIndexer, rf])"
   ]
  },
  {
   "cell_type": "code",
   "execution_count": 94,
   "metadata": {},
   "outputs": [],
   "source": [
    "fit = pipeline2.fit(trainingData)\n",
    "transformed = fit.transform(testData)"
   ]
  },
  {
   "cell_type": "code",
   "execution_count": 95,
   "metadata": {},
   "outputs": [
    {
     "name": "stdout",
     "output_type": "stream",
     "text": [
      "0.512\n"
     ]
    }
   ],
   "source": [
    "print(evaluator2.evaluate(transformed))"
   ]
  },
  {
   "cell_type": "code",
   "execution_count": 96,
   "metadata": {
    "collapsed": true
   },
   "outputs": [],
   "source": [
    "from pyspark.ml.classification import GBTClassifier"
   ]
  },
  {
   "cell_type": "code",
   "execution_count": 97,
   "metadata": {
    "collapsed": true
   },
   "outputs": [],
   "source": [
    "gbt = GBTClassifier(maxIter=10)"
   ]
  },
  {
   "cell_type": "code",
   "execution_count": 98,
   "metadata": {
    "collapsed": true
   },
   "outputs": [],
   "source": [
    "pipeline3 = Pipeline(stages=[assembler, labelIndexer, gbt])"
   ]
  },
  {
   "cell_type": "code",
   "execution_count": 99,
   "metadata": {},
   "outputs": [
    {
     "name": "stdout",
     "output_type": "stream",
     "text": [
      "0.51\n"
     ]
    }
   ],
   "source": [
    "fit = pipeline3.fit(trainingData)\n",
    "transformed = fit.transform(testData)\n",
    "print(evaluator2.evaluate(transformed))"
   ]
  },
  {
   "cell_type": "code",
   "execution_count": 100,
   "metadata": {
    "collapsed": true
   },
   "outputs": [],
   "source": [
    "from pyspark.ml.classification import MultilayerPerceptronClassifier"
   ]
  },
  {
   "cell_type": "code",
   "execution_count": 127,
   "metadata": {
    "collapsed": true
   },
   "outputs": [],
   "source": [
    "layers=[35,5,4,2]"
   ]
  },
  {
   "cell_type": "code",
   "execution_count": 128,
   "metadata": {
    "collapsed": true
   },
   "outputs": [],
   "source": [
    "trainer = MultilayerPerceptronClassifier(maxIter=100, layers=layers, blockSize=128, seed=1234)"
   ]
  },
  {
   "cell_type": "code",
   "execution_count": 129,
   "metadata": {},
   "outputs": [
    {
     "name": "stdout",
     "output_type": "stream",
     "text": [
      "0.542\n"
     ]
    }
   ],
   "source": [
    "pipeline4= Pipeline(stages=[assembler, labelIndexer,trainer])\n",
    "fit = pipeline4.fit(trainingData)\n",
    "transformed = fit.transform(testData)\n",
    "print(evaluator2.evaluate(transformed))"
   ]
  }
 ],
 "metadata": {
  "kernelspec": {
   "display_name": "Python [default]",
   "language": "python",
   "name": "python2"
  },
  "language_info": {
   "codemirror_mode": {
    "name": "ipython",
    "version": 2
   },
   "file_extension": ".py",
   "mimetype": "text/x-python",
   "name": "python",
   "nbconvert_exporter": "python",
   "pygments_lexer": "ipython2",
   "version": "2.7.14"
  }
 },
 "nbformat": 4,
 "nbformat_minor": 2
}
